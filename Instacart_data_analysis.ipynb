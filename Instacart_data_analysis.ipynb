
# Essential Libraries
import pandas as pd
import numpy as np
import matplotlib.pyplot as plt
import seaborn as sns
%matplotlib inline
import os

#Data 
#Importing the data files for initial analysis

aisles = pd.read_csv("../input/instacart-market-basket-analysis/aisles.csv")
departments = pd.read_csv("../input/instacart-market-basket-analysis/departments.csv")
order_pdts_prior = pd.read_csv("../input/instacart-market-basket-analysis/order_products__prior.csv")
order_pdts_train = pd.read_csv("../input/instacart-market-basket-analysis/order_products__train.csv")
orders = pd.read_csv("../input/instacart-market-basket-analysis/orders.csv")
pdts = pd.read_csv("../input/instacart-market-basket-analysis/products.csv")
