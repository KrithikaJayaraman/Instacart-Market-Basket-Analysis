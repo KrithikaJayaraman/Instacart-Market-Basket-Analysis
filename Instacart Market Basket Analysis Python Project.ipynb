{
  "nbformat": 4,
  "nbformat_minor": 0,
  "metadata": {
    "colab": {
      "name": "Hello world.ipynb",
      "provenance": [],
      "machine_shape": "hm"
    },
    "kernelspec": {
      "name": "python3",
      "display_name": "Python 3"
    },
    "accelerator": "GPU"
  },
  "cells": [
    {
      "cell_type": "code",
      "metadata": {
        "id": "dgbaKhQWZLLm",
        "colab_type": "code",
        "colab": {}
      },
      "source": [
        "!pip install -q kaggle"
      ],
      "execution_count": 0,
      "outputs": []
    },
    {
      "cell_type": "code",
      "metadata": {
        "id": "WxCGbC18ZOJ5",
        "colab_type": "code",
        "colab": {}
      },
      "source": [
        "from google.colab import files"
      ],
      "execution_count": 0,
      "outputs": []
    },
    {
      "cell_type": "code",
      "metadata": {
        "id": "e2taOpyJZY4t",
        "colab_type": "code",
        "outputId": "9132a849-2750-42a7-c099-7521e773b2c8",
        "colab": {
          "base_uri": "https://localhost:8080/",
          "height": 391
        }
      },
      "source": [
        "import os\n",
        "os.getcwd()\n",
        "\n",
        "\n",
        "os.environ['KAGGLE_USERNAME'] = \"krithi011\" # username from the json file\n",
        "os.environ['KAGGLE_KEY'] = \"d3d31737af0a624d262f11427a92f9eb\" # key from the json file\n",
        "!kaggle competitions download -c instacart-market-basket-analysis # api copied from kaggle\n",
        "\n"
      ],
      "execution_count": 32,
      "outputs": [
        {
          "output_type": "stream",
          "text": [
            "Warning: Looks like you're using an outdated API Version, please consider updating (server 1.5.6 / client 1.5.4)\n",
            "Downloading orders.csv.zip to /content\n",
            " 54% 17.0M/31.3M [00:00<00:00, 25.9MB/s]\n",
            "100% 31.3M/31.3M [00:00<00:00, 70.7MB/s]\n",
            "Downloading order_products__train.csv.zip to /content\n",
            " 72% 5.00M/6.90M [00:00<00:00, 7.93MB/s]\n",
            "100% 6.90M/6.90M [00:00<00:00, 10.1MB/s]\n",
            "Downloading products.csv.zip to /content\n",
            "  0% 0.00/795k [00:00<?, ?B/s]\n",
            "100% 795k/795k [00:00<00:00, 113MB/s]\n",
            "Downloading order_products__prior.csv.zip to /content\n",
            "100% 157M/157M [00:01<00:00, 76.6MB/s]\n",
            "100% 157M/157M [00:01<00:00, 90.6MB/s]\n",
            "Downloading sample_submission.csv.zip to /content\n",
            "  0% 0.00/220k [00:00<?, ?B/s]\n",
            "100% 220k/220k [00:00<00:00, 224MB/s]\n",
            "Downloading departments.csv.zip to /content\n",
            "  0% 0.00/804 [00:00<?, ?B/s]\n",
            "100% 804/804 [00:00<00:00, 823kB/s]\n",
            "Downloading aisles.csv.zip to /content\n",
            "  0% 0.00/1.87k [00:00<?, ?B/s]\n",
            "100% 1.87k/1.87k [00:00<00:00, 1.86MB/s]\n"
          ],
          "name": "stdout"
        }
      ]
    },
    {
      "cell_type": "code",
      "metadata": {
        "id": "559QDprdazwa",
        "colab_type": "code",
        "colab": {}
      },
      "source": [
        "#Importing the essential libraries\n",
        "import numpy as np # linear algebra\n",
        "import pandas as pd # data processing, CSV file I/O (e.g. pd.read_csv)\n",
        "import matplotlib.pyplot as plt\n",
        "import seaborn as sns\n",
        "%matplotlib inline\n",
        "from IPython.display import display\n",
        "#The following library is imported for using the check_output function \n",
        "import subprocess\n",
        "import zipfile\n",
        "import warnings\n",
        "warnings.filterwarnings('ignore')\n",
        "# Input data files are available in the \"../input/\" directory.\n",
        "# For example, running this (by clicking run or pressing Shift+Enter) will list all files under the input directory"
      ],
      "execution_count": 0,
      "outputs": []
    },
    {
      "cell_type": "code",
      "metadata": {
        "id": "XV_v4stxgZ8M",
        "colab_type": "code",
        "colab": {}
      },
      "source": [
        "import pandas.util.testing as tm"
      ],
      "execution_count": 0,
      "outputs": []
    },
    {
      "cell_type": "code",
      "metadata": {
        "id": "ik-qhQQZgba5",
        "colab_type": "code",
        "outputId": "c061fc72-aef2-4ce4-f7a4-26265ac9594c",
        "colab": {
          "base_uri": "https://localhost:8080/",
          "height": 136
        }
      },
      "source": [
        "file1 = '/content/order_products__train.csv.zip'\n",
        "\n",
        "with zipfile.ZipFile(file1,\"r\") as z:\n",
        "# this will print a list of file names in the zip file\n",
        "    print(z.namelist())\n",
        "\n",
        "# open the file that you want from that list\n",
        "    with z.open(\"order_products__train.csv\") as f:\n",
        "        order_pdts_train = pd.read_csv(f)\n",
        "\n",
        "file2 = '/content/order_products__prior.csv.zip'\n",
        "\n",
        "with zipfile.ZipFile(file2,\"r\") as z:\n",
        "# this will print a list of file names in the zip file\n",
        "    print(z.namelist())\n",
        "\n",
        "# open the file that you want from that list\n",
        "    with z.open(\"order_products__prior.csv\") as f:\n",
        "        order_pdts_prior = pd.read_csv(f)\n",
        "        \n",
        "file3 = '/content/sample_submission.csv.zip'\n",
        "\n",
        "with zipfile.ZipFile(file3,\"r\") as z:\n",
        "# this will print a list of file names in the zip file\n",
        "    print(z.namelist())\n",
        "\n",
        "# open the file that you want from that list\n",
        "    with z.open(\"sample_submission.csv\") as f:\n",
        "        sample_sub = pd.read_csv(f)\n",
        "        \n",
        "file4 = '/content/products.csv.zip'\n",
        "\n",
        "with zipfile.ZipFile(file4,\"r\") as z:\n",
        "# this will print a list of file names in the zip file\n",
        "    print(z.namelist())\n",
        "\n",
        "# open the file that you want from that list\n",
        "    with z.open(\"products.csv\") as f:\n",
        "        products = pd.read_csv(f)\n",
        "        \n",
        "        \n",
        "file5 = '/content/aisles.csv.zip'\n",
        "\n",
        "with zipfile.ZipFile(file5,\"r\") as z:\n",
        "# this will print a list of file names in the zip file\n",
        "    print(z.namelist())\n",
        "\n",
        "# open the file that you want from that list\n",
        "    with z.open(\"aisles.csv\") as f:\n",
        "        aisles = pd.read_csv(f)\n",
        "        \n",
        "file6 = '/content/departments.csv.zip'\n",
        "\n",
        "with zipfile.ZipFile(file6,\"r\") as z:\n",
        "# this will print a list of file names in the zip file\n",
        "    print(z.namelist())\n",
        "\n",
        "# open the file that you want from that list\n",
        "    with z.open(\"departments.csv\") as f:\n",
        "        departments = pd.read_csv(f)\n",
        "        \n",
        "file7 = '/content/orders.csv.zip'\n",
        "\n",
        "with zipfile.ZipFile(file7,\"r\") as z:\n",
        "# this will print a list of file names in the zip file\n",
        "    print(z.namelist())\n",
        "\n",
        "# open the file that you want from that list\n",
        "    with z.open(\"orders.csv\") as f:\n",
        "        orders = pd.read_csv(f)\n",
        "     "
      ],
      "execution_count": 34,
      "outputs": [
        {
          "output_type": "stream",
          "text": [
            "['order_products__train.csv', '__MACOSX/', '__MACOSX/._order_products__train.csv']\n",
            "['order_products__prior.csv', '__MACOSX/', '__MACOSX/._order_products__prior.csv']\n",
            "['sample_submission.csv']\n",
            "['products.csv', '__MACOSX/', '__MACOSX/._products.csv']\n",
            "['aisles.csv', '__MACOSX/', '__MACOSX/._aisles.csv']\n",
            "['departments.csv', '__MACOSX/', '__MACOSX/._departments.csv']\n",
            "['orders.csv', '__MACOSX/', '__MACOSX/._orders.csv']\n"
          ],
          "name": "stdout"
        }
      ]
    },
    {
      "cell_type": "code",
      "metadata": {
        "id": "n4scv1Dcg3eo",
        "colab_type": "code",
        "outputId": "bb48b6aa-47bb-4c91-ea8f-13d55c072f84",
        "colab": {
          "base_uri": "https://localhost:8080/",
          "height": 204
        }
      },
      "source": [
        "order_pdts_train.head()"
      ],
      "execution_count": 0,
      "outputs": [
        {
          "output_type": "execute_result",
          "data": {
            "text/html": [
              "<div>\n",
              "<style scoped>\n",
              "    .dataframe tbody tr th:only-of-type {\n",
              "        vertical-align: middle;\n",
              "    }\n",
              "\n",
              "    .dataframe tbody tr th {\n",
              "        vertical-align: top;\n",
              "    }\n",
              "\n",
              "    .dataframe thead th {\n",
              "        text-align: right;\n",
              "    }\n",
              "</style>\n",
              "<table border=\"1\" class=\"dataframe\">\n",
              "  <thead>\n",
              "    <tr style=\"text-align: right;\">\n",
              "      <th></th>\n",
              "      <th>order_id</th>\n",
              "      <th>product_id</th>\n",
              "      <th>add_to_cart_order</th>\n",
              "      <th>reordered</th>\n",
              "    </tr>\n",
              "  </thead>\n",
              "  <tbody>\n",
              "    <tr>\n",
              "      <th>0</th>\n",
              "      <td>1</td>\n",
              "      <td>49302</td>\n",
              "      <td>1</td>\n",
              "      <td>1</td>\n",
              "    </tr>\n",
              "    <tr>\n",
              "      <th>1</th>\n",
              "      <td>1</td>\n",
              "      <td>11109</td>\n",
              "      <td>2</td>\n",
              "      <td>1</td>\n",
              "    </tr>\n",
              "    <tr>\n",
              "      <th>2</th>\n",
              "      <td>1</td>\n",
              "      <td>10246</td>\n",
              "      <td>3</td>\n",
              "      <td>0</td>\n",
              "    </tr>\n",
              "    <tr>\n",
              "      <th>3</th>\n",
              "      <td>1</td>\n",
              "      <td>49683</td>\n",
              "      <td>4</td>\n",
              "      <td>0</td>\n",
              "    </tr>\n",
              "    <tr>\n",
              "      <th>4</th>\n",
              "      <td>1</td>\n",
              "      <td>43633</td>\n",
              "      <td>5</td>\n",
              "      <td>1</td>\n",
              "    </tr>\n",
              "  </tbody>\n",
              "</table>\n",
              "</div>"
            ],
            "text/plain": [
              "   order_id  product_id  add_to_cart_order  reordered\n",
              "0         1       49302                  1          1\n",
              "1         1       11109                  2          1\n",
              "2         1       10246                  3          0\n",
              "3         1       49683                  4          0\n",
              "4         1       43633                  5          1"
            ]
          },
          "metadata": {
            "tags": []
          },
          "execution_count": 16
        }
      ]
    },
    {
      "cell_type": "code",
      "metadata": {
        "id": "OPYCJ8aig5vj",
        "colab_type": "code",
        "outputId": "fc330a2e-0a7c-48b4-a4db-01811f0d7ada",
        "colab": {
          "base_uri": "https://localhost:8080/",
          "height": 204
        }
      },
      "source": [
        "order_pdts_prior.head()"
      ],
      "execution_count": 0,
      "outputs": [
        {
          "output_type": "execute_result",
          "data": {
            "text/html": [
              "<div>\n",
              "<style scoped>\n",
              "    .dataframe tbody tr th:only-of-type {\n",
              "        vertical-align: middle;\n",
              "    }\n",
              "\n",
              "    .dataframe tbody tr th {\n",
              "        vertical-align: top;\n",
              "    }\n",
              "\n",
              "    .dataframe thead th {\n",
              "        text-align: right;\n",
              "    }\n",
              "</style>\n",
              "<table border=\"1\" class=\"dataframe\">\n",
              "  <thead>\n",
              "    <tr style=\"text-align: right;\">\n",
              "      <th></th>\n",
              "      <th>order_id</th>\n",
              "      <th>product_id</th>\n",
              "      <th>add_to_cart_order</th>\n",
              "      <th>reordered</th>\n",
              "    </tr>\n",
              "  </thead>\n",
              "  <tbody>\n",
              "    <tr>\n",
              "      <th>0</th>\n",
              "      <td>2</td>\n",
              "      <td>33120</td>\n",
              "      <td>1</td>\n",
              "      <td>1</td>\n",
              "    </tr>\n",
              "    <tr>\n",
              "      <th>1</th>\n",
              "      <td>2</td>\n",
              "      <td>28985</td>\n",
              "      <td>2</td>\n",
              "      <td>1</td>\n",
              "    </tr>\n",
              "    <tr>\n",
              "      <th>2</th>\n",
              "      <td>2</td>\n",
              "      <td>9327</td>\n",
              "      <td>3</td>\n",
              "      <td>0</td>\n",
              "    </tr>\n",
              "    <tr>\n",
              "      <th>3</th>\n",
              "      <td>2</td>\n",
              "      <td>45918</td>\n",
              "      <td>4</td>\n",
              "      <td>1</td>\n",
              "    </tr>\n",
              "    <tr>\n",
              "      <th>4</th>\n",
              "      <td>2</td>\n",
              "      <td>30035</td>\n",
              "      <td>5</td>\n",
              "      <td>0</td>\n",
              "    </tr>\n",
              "  </tbody>\n",
              "</table>\n",
              "</div>"
            ],
            "text/plain": [
              "   order_id  product_id  add_to_cart_order  reordered\n",
              "0         2       33120                  1          1\n",
              "1         2       28985                  2          1\n",
              "2         2        9327                  3          0\n",
              "3         2       45918                  4          1\n",
              "4         2       30035                  5          0"
            ]
          },
          "metadata": {
            "tags": []
          },
          "execution_count": 17
        }
      ]
    },
    {
      "cell_type": "code",
      "metadata": {
        "id": "AmQUiMOJg9I_",
        "colab_type": "code",
        "outputId": "9134dc4e-738a-45d1-98de-0b5ff8599bdb",
        "colab": {
          "base_uri": "https://localhost:8080/",
          "height": 204
        }
      },
      "source": [
        "departments.head()"
      ],
      "execution_count": 0,
      "outputs": [
        {
          "output_type": "execute_result",
          "data": {
            "text/html": [
              "<div>\n",
              "<style scoped>\n",
              "    .dataframe tbody tr th:only-of-type {\n",
              "        vertical-align: middle;\n",
              "    }\n",
              "\n",
              "    .dataframe tbody tr th {\n",
              "        vertical-align: top;\n",
              "    }\n",
              "\n",
              "    .dataframe thead th {\n",
              "        text-align: right;\n",
              "    }\n",
              "</style>\n",
              "<table border=\"1\" class=\"dataframe\">\n",
              "  <thead>\n",
              "    <tr style=\"text-align: right;\">\n",
              "      <th></th>\n",
              "      <th>department_id</th>\n",
              "      <th>department</th>\n",
              "    </tr>\n",
              "  </thead>\n",
              "  <tbody>\n",
              "    <tr>\n",
              "      <th>0</th>\n",
              "      <td>1</td>\n",
              "      <td>frozen</td>\n",
              "    </tr>\n",
              "    <tr>\n",
              "      <th>1</th>\n",
              "      <td>2</td>\n",
              "      <td>other</td>\n",
              "    </tr>\n",
              "    <tr>\n",
              "      <th>2</th>\n",
              "      <td>3</td>\n",
              "      <td>bakery</td>\n",
              "    </tr>\n",
              "    <tr>\n",
              "      <th>3</th>\n",
              "      <td>4</td>\n",
              "      <td>produce</td>\n",
              "    </tr>\n",
              "    <tr>\n",
              "      <th>4</th>\n",
              "      <td>5</td>\n",
              "      <td>alcohol</td>\n",
              "    </tr>\n",
              "  </tbody>\n",
              "</table>\n",
              "</div>"
            ],
            "text/plain": [
              "   department_id department\n",
              "0              1     frozen\n",
              "1              2      other\n",
              "2              3     bakery\n",
              "3              4    produce\n",
              "4              5    alcohol"
            ]
          },
          "metadata": {
            "tags": []
          },
          "execution_count": 18
        }
      ]
    },
    {
      "cell_type": "code",
      "metadata": {
        "id": "5oZowYPqg_Vw",
        "colab_type": "code",
        "outputId": "6460ca83-8b7e-4ca8-c0d9-8e28c360f190",
        "colab": {
          "base_uri": "https://localhost:8080/",
          "height": 204
        }
      },
      "source": [
        "aisles.head()"
      ],
      "execution_count": 0,
      "outputs": [
        {
          "output_type": "execute_result",
          "data": {
            "text/html": [
              "<div>\n",
              "<style scoped>\n",
              "    .dataframe tbody tr th:only-of-type {\n",
              "        vertical-align: middle;\n",
              "    }\n",
              "\n",
              "    .dataframe tbody tr th {\n",
              "        vertical-align: top;\n",
              "    }\n",
              "\n",
              "    .dataframe thead th {\n",
              "        text-align: right;\n",
              "    }\n",
              "</style>\n",
              "<table border=\"1\" class=\"dataframe\">\n",
              "  <thead>\n",
              "    <tr style=\"text-align: right;\">\n",
              "      <th></th>\n",
              "      <th>aisle_id</th>\n",
              "      <th>aisle</th>\n",
              "    </tr>\n",
              "  </thead>\n",
              "  <tbody>\n",
              "    <tr>\n",
              "      <th>0</th>\n",
              "      <td>1</td>\n",
              "      <td>prepared soups salads</td>\n",
              "    </tr>\n",
              "    <tr>\n",
              "      <th>1</th>\n",
              "      <td>2</td>\n",
              "      <td>specialty cheeses</td>\n",
              "    </tr>\n",
              "    <tr>\n",
              "      <th>2</th>\n",
              "      <td>3</td>\n",
              "      <td>energy granola bars</td>\n",
              "    </tr>\n",
              "    <tr>\n",
              "      <th>3</th>\n",
              "      <td>4</td>\n",
              "      <td>instant foods</td>\n",
              "    </tr>\n",
              "    <tr>\n",
              "      <th>4</th>\n",
              "      <td>5</td>\n",
              "      <td>marinades meat preparation</td>\n",
              "    </tr>\n",
              "  </tbody>\n",
              "</table>\n",
              "</div>"
            ],
            "text/plain": [
              "   aisle_id                       aisle\n",
              "0         1       prepared soups salads\n",
              "1         2           specialty cheeses\n",
              "2         3         energy granola bars\n",
              "3         4               instant foods\n",
              "4         5  marinades meat preparation"
            ]
          },
          "metadata": {
            "tags": []
          },
          "execution_count": 19
        }
      ]
    },
    {
      "cell_type": "code",
      "metadata": {
        "id": "ZSZcJLvlhByA",
        "colab_type": "code",
        "outputId": "145dd808-9a79-401e-e2c6-dbf05b247c1d",
        "colab": {
          "base_uri": "https://localhost:8080/",
          "height": 204
        }
      },
      "source": [
        "products.head()"
      ],
      "execution_count": 0,
      "outputs": [
        {
          "output_type": "execute_result",
          "data": {
            "text/html": [
              "<div>\n",
              "<style scoped>\n",
              "    .dataframe tbody tr th:only-of-type {\n",
              "        vertical-align: middle;\n",
              "    }\n",
              "\n",
              "    .dataframe tbody tr th {\n",
              "        vertical-align: top;\n",
              "    }\n",
              "\n",
              "    .dataframe thead th {\n",
              "        text-align: right;\n",
              "    }\n",
              "</style>\n",
              "<table border=\"1\" class=\"dataframe\">\n",
              "  <thead>\n",
              "    <tr style=\"text-align: right;\">\n",
              "      <th></th>\n",
              "      <th>product_id</th>\n",
              "      <th>product_name</th>\n",
              "      <th>aisle_id</th>\n",
              "      <th>department_id</th>\n",
              "    </tr>\n",
              "  </thead>\n",
              "  <tbody>\n",
              "    <tr>\n",
              "      <th>0</th>\n",
              "      <td>1</td>\n",
              "      <td>Chocolate Sandwich Cookies</td>\n",
              "      <td>61</td>\n",
              "      <td>19</td>\n",
              "    </tr>\n",
              "    <tr>\n",
              "      <th>1</th>\n",
              "      <td>2</td>\n",
              "      <td>All-Seasons Salt</td>\n",
              "      <td>104</td>\n",
              "      <td>13</td>\n",
              "    </tr>\n",
              "    <tr>\n",
              "      <th>2</th>\n",
              "      <td>3</td>\n",
              "      <td>Robust Golden Unsweetened Oolong Tea</td>\n",
              "      <td>94</td>\n",
              "      <td>7</td>\n",
              "    </tr>\n",
              "    <tr>\n",
              "      <th>3</th>\n",
              "      <td>4</td>\n",
              "      <td>Smart Ones Classic Favorites Mini Rigatoni Wit...</td>\n",
              "      <td>38</td>\n",
              "      <td>1</td>\n",
              "    </tr>\n",
              "    <tr>\n",
              "      <th>4</th>\n",
              "      <td>5</td>\n",
              "      <td>Green Chile Anytime Sauce</td>\n",
              "      <td>5</td>\n",
              "      <td>13</td>\n",
              "    </tr>\n",
              "  </tbody>\n",
              "</table>\n",
              "</div>"
            ],
            "text/plain": [
              "   product_id  ... department_id\n",
              "0           1  ...            19\n",
              "1           2  ...            13\n",
              "2           3  ...             7\n",
              "3           4  ...             1\n",
              "4           5  ...            13\n",
              "\n",
              "[5 rows x 4 columns]"
            ]
          },
          "metadata": {
            "tags": []
          },
          "execution_count": 20
        }
      ]
    },
    {
      "cell_type": "code",
      "metadata": {
        "id": "syw1iE90hDzf",
        "colab_type": "code",
        "outputId": "5ec391b0-8605-494c-ecb6-e52d85b4d1d5",
        "colab": {
          "base_uri": "https://localhost:8080/",
          "height": 204
        }
      },
      "source": [
        "orders.head()"
      ],
      "execution_count": 35,
      "outputs": [
        {
          "output_type": "execute_result",
          "data": {
            "text/html": [
              "<div>\n",
              "<style scoped>\n",
              "    .dataframe tbody tr th:only-of-type {\n",
              "        vertical-align: middle;\n",
              "    }\n",
              "\n",
              "    .dataframe tbody tr th {\n",
              "        vertical-align: top;\n",
              "    }\n",
              "\n",
              "    .dataframe thead th {\n",
              "        text-align: right;\n",
              "    }\n",
              "</style>\n",
              "<table border=\"1\" class=\"dataframe\">\n",
              "  <thead>\n",
              "    <tr style=\"text-align: right;\">\n",
              "      <th></th>\n",
              "      <th>order_id</th>\n",
              "      <th>user_id</th>\n",
              "      <th>eval_set</th>\n",
              "      <th>order_number</th>\n",
              "      <th>order_dow</th>\n",
              "      <th>order_hour_of_day</th>\n",
              "      <th>days_since_prior_order</th>\n",
              "    </tr>\n",
              "  </thead>\n",
              "  <tbody>\n",
              "    <tr>\n",
              "      <th>0</th>\n",
              "      <td>2539329</td>\n",
              "      <td>1</td>\n",
              "      <td>prior</td>\n",
              "      <td>1</td>\n",
              "      <td>2</td>\n",
              "      <td>8</td>\n",
              "      <td>NaN</td>\n",
              "    </tr>\n",
              "    <tr>\n",
              "      <th>1</th>\n",
              "      <td>2398795</td>\n",
              "      <td>1</td>\n",
              "      <td>prior</td>\n",
              "      <td>2</td>\n",
              "      <td>3</td>\n",
              "      <td>7</td>\n",
              "      <td>15.0</td>\n",
              "    </tr>\n",
              "    <tr>\n",
              "      <th>2</th>\n",
              "      <td>473747</td>\n",
              "      <td>1</td>\n",
              "      <td>prior</td>\n",
              "      <td>3</td>\n",
              "      <td>3</td>\n",
              "      <td>12</td>\n",
              "      <td>21.0</td>\n",
              "    </tr>\n",
              "    <tr>\n",
              "      <th>3</th>\n",
              "      <td>2254736</td>\n",
              "      <td>1</td>\n",
              "      <td>prior</td>\n",
              "      <td>4</td>\n",
              "      <td>4</td>\n",
              "      <td>7</td>\n",
              "      <td>29.0</td>\n",
              "    </tr>\n",
              "    <tr>\n",
              "      <th>4</th>\n",
              "      <td>431534</td>\n",
              "      <td>1</td>\n",
              "      <td>prior</td>\n",
              "      <td>5</td>\n",
              "      <td>4</td>\n",
              "      <td>15</td>\n",
              "      <td>28.0</td>\n",
              "    </tr>\n",
              "  </tbody>\n",
              "</table>\n",
              "</div>"
            ],
            "text/plain": [
              "   order_id  user_id  ... order_hour_of_day  days_since_prior_order\n",
              "0   2539329        1  ...                 8                     NaN\n",
              "1   2398795        1  ...                 7                    15.0\n",
              "2    473747        1  ...                12                    21.0\n",
              "3   2254736        1  ...                 7                    29.0\n",
              "4    431534        1  ...                15                    28.0\n",
              "\n",
              "[5 rows x 7 columns]"
            ]
          },
          "metadata": {
            "tags": []
          },
          "execution_count": 35
        }
      ]
    },
    {
      "cell_type": "code",
      "metadata": {
        "id": "JYMqQWGVhHyn",
        "colab_type": "code",
        "outputId": "f74e399d-2bf8-40ca-d39b-8b0c3d40c5d2",
        "colab": {
          "base_uri": "https://localhost:8080/",
          "height": 85
        }
      },
      "source": [
        "orders['eval_set'].value_counts()"
      ],
      "execution_count": 0,
      "outputs": [
        {
          "output_type": "execute_result",
          "data": {
            "text/plain": [
              "prior    3214874\n",
              "train     131209\n",
              "test       75000\n",
              "Name: eval_set, dtype: int64"
            ]
          },
          "metadata": {
            "tags": []
          },
          "execution_count": 22
        }
      ]
    },
    {
      "cell_type": "markdown",
      "metadata": {
        "id": "L7721f9NhPHH",
        "colab_type": "text"
      },
      "source": [
        "### Q1: How many customers are present in each of these evaluation sets?"
      ]
    },
    {
      "cell_type": "code",
      "metadata": {
        "id": "txGQMegnhINZ",
        "colab_type": "code",
        "outputId": "11b7b3ba-7127-4033-8297-15fb6b7010c9",
        "colab": {
          "base_uri": "https://localhost:8080/",
          "height": 173
        }
      },
      "source": [
        "orders.groupby('eval_set').agg({'user_id' : lambda x: x.nunique()})"
      ],
      "execution_count": 0,
      "outputs": [
        {
          "output_type": "execute_result",
          "data": {
            "text/html": [
              "<div>\n",
              "<style scoped>\n",
              "    .dataframe tbody tr th:only-of-type {\n",
              "        vertical-align: middle;\n",
              "    }\n",
              "\n",
              "    .dataframe tbody tr th {\n",
              "        vertical-align: top;\n",
              "    }\n",
              "\n",
              "    .dataframe thead th {\n",
              "        text-align: right;\n",
              "    }\n",
              "</style>\n",
              "<table border=\"1\" class=\"dataframe\">\n",
              "  <thead>\n",
              "    <tr style=\"text-align: right;\">\n",
              "      <th></th>\n",
              "      <th>user_id</th>\n",
              "    </tr>\n",
              "    <tr>\n",
              "      <th>eval_set</th>\n",
              "      <th></th>\n",
              "    </tr>\n",
              "  </thead>\n",
              "  <tbody>\n",
              "    <tr>\n",
              "      <th>prior</th>\n",
              "      <td>206209</td>\n",
              "    </tr>\n",
              "    <tr>\n",
              "      <th>test</th>\n",
              "      <td>75000</td>\n",
              "    </tr>\n",
              "    <tr>\n",
              "      <th>train</th>\n",
              "      <td>131209</td>\n",
              "    </tr>\n",
              "  </tbody>\n",
              "</table>\n",
              "</div>"
            ],
            "text/plain": [
              "          user_id\n",
              "eval_set         \n",
              "prior      206209\n",
              "test        75000\n",
              "train      131209"
            ]
          },
          "metadata": {
            "tags": []
          },
          "execution_count": 24
        }
      ]
    },
    {
      "cell_type": "markdown",
      "metadata": {
        "id": "SFUTQqoZha0P",
        "colab_type": "text"
      },
      "source": [
        "### Q2. What is the distribution of the maximum number of orders of all customers?"
      ]
    },
    {
      "cell_type": "code",
      "metadata": {
        "id": "4fByTe0thIIa",
        "colab_type": "code",
        "colab": {}
      },
      "source": [
        "orders_per_user = orders.groupby('user_id').agg({'order_number' : ['max']}).rename(columns = {'order_number' : 'orders_per_user'})\n",
        "orders_per_user.columns = orders_per_user.columns.get_level_values(0)\n",
        "#Number of times each max value occurs in the above dataframe \n",
        "n_orders = orders_per_user.orders_per_user.value_counts()"
      ],
      "execution_count": 0,
      "outputs": []
    },
    {
      "cell_type": "code",
      "metadata": {
        "id": "0NzyEgibhIHZ",
        "colab_type": "code",
        "outputId": "a7bbf8e4-dfaf-40f0-f27c-af7cb1cb0ffb",
        "colab": {
          "base_uri": "https://localhost:8080/",
          "height": 458
        }
      },
      "source": [
        "plt.figure(figsize = (10,7))\n",
        "plt.bar(n_orders.index, n_orders.values)\n",
        "plt.xlabel('Number of orders per user')\n",
        "plt.ylabel('Number of users per distinct order numbers')\n",
        "plt.title('Number of orders customers usually place');"
      ],
      "execution_count": 0,
      "outputs": [
        {
          "output_type": "display_data",
          "data": {
            "image/png": "[encoded data removed]",
            "text/plain": [
              "<Figure size 720x504 with 1 Axes>"
            ]
          },
          "metadata": {
            "tags": [],
            "needs_background": "light"
          }
        }
      ]
    },
    {
      "cell_type": "code",
      "metadata": {
        "id": "SofCir9WhIDm",
        "colab_type": "code",
        "outputId": "0ef9afeb-f521-4315-8547-f812c5e94ed2",
        "colab": {
          "base_uri": "https://localhost:8080/",
          "height": 34
        }
      },
      "source": [
        "orders_per_user['orders_per_user'].quantile(0.5)  #Median number of order quantity across all customers"
      ],
      "execution_count": 0,
      "outputs": [
        {
          "output_type": "execute_result",
          "data": {
            "text/plain": [
              "10.0"
            ]
          },
          "metadata": {
            "tags": []
          },
          "execution_count": 27
        }
      ]
    },
    {
      "cell_type": "markdown",
      "metadata": {
        "id": "0EmYwpuAhmnZ",
        "colab_type": "text"
      },
      "source": [
        "#### Observations about the data:\n",
        "1) order_pdts_prior and order_pdts_train datasets have the same structure. However, the orders of the customer are split into train, test and prior sets which is evident from the orders dataset.\n",
        "\n",
        "2) All prior orders of customers are present in order_pdts_prior dataset and the most recent order has been split into training and test sets for our prediction. To identify if a record in test, train or prior, there is an indicator column in the orders dataset\n",
        "\n",
        "3) The number of unique customers in the prior, train and test sets have been identified\n",
        "\n",
        "4) Majority of the customers place a maximum of 10 orders (median number of orders)"
      ]
    },
    {
      "cell_type": "markdown",
      "metadata": {
        "id": "SpBowclFhq2H",
        "colab_type": "text"
      },
      "source": [
        "### Q3. Which day of the week has the maximum number of reorders?"
      ]
    },
    {
      "cell_type": "markdown",
      "metadata": {
        "id": "ypSLCyPDhueI",
        "colab_type": "text"
      },
      "source": [
        "Since order_pdts_prior and order_pdts_train have the same structure, we are concatenating them into one for further analysis."
      ]
    },
    {
      "cell_type": "code",
      "metadata": {
        "id": "TdHA6KY9hIAc",
        "colab_type": "code",
        "outputId": "a4f3d9e0-9d5d-4146-dc70-42f999000ec1",
        "colab": {
          "base_uri": "https://localhost:8080/",
          "height": 34
        }
      },
      "source": [
        "ordered_pdts_all = pd.concat([order_pdts_prior,order_pdts_train], axis = 0)\n",
        "ordered_pdts_all.shape"
      ],
      "execution_count": 0,
      "outputs": [
        {
          "output_type": "execute_result",
          "data": {
            "text/plain": [
              "(33819106, 4)"
            ]
          },
          "metadata": {
            "tags": []
          },
          "execution_count": 28
        }
      ]
    },
    {
      "cell_type": "code",
      "metadata": {
        "id": "I5b9dcmphH-H",
        "colab_type": "code",
        "outputId": "8d934079-edf6-4539-dd4b-adc258f951f5",
        "colab": {
          "base_uri": "https://localhost:8080/",
          "height": 204
        }
      },
      "source": [
        "# Merge ordered_pdts with orders to get a pic of reorder and day of week relationship\n",
        "merged_order = pd.merge(ordered_pdts_all, orders, on = \"order_id\", how = 'left')\n",
        "merged_order.shape\n",
        "merged_order.head()"
      ],
      "execution_count": 40,
      "outputs": [
        {
          "output_type": "execute_result",
          "data": {
            "text/html": [
              "<div>\n",
              "<style scoped>\n",
              "    .dataframe tbody tr th:only-of-type {\n",
              "        vertical-align: middle;\n",
              "    }\n",
              "\n",
              "    .dataframe tbody tr th {\n",
              "        vertical-align: top;\n",
              "    }\n",
              "\n",
              "    .dataframe thead th {\n",
              "        text-align: right;\n",
              "    }\n",
              "</style>\n",
              "<table border=\"1\" class=\"dataframe\">\n",
              "  <thead>\n",
              "    <tr style=\"text-align: right;\">\n",
              "      <th></th>\n",
              "      <th>order_id</th>\n",
              "      <th>product_id</th>\n",
              "      <th>add_to_cart_order</th>\n",
              "      <th>reordered</th>\n",
              "      <th>user_id</th>\n",
              "      <th>eval_set</th>\n",
              "      <th>order_number</th>\n",
              "      <th>order_dow</th>\n",
              "      <th>order_hour_of_day</th>\n",
              "      <th>days_since_prior_order</th>\n",
              "    </tr>\n",
              "  </thead>\n",
              "  <tbody>\n",
              "    <tr>\n",
              "      <th>0</th>\n",
              "      <td>2</td>\n",
              "      <td>33120</td>\n",
              "      <td>1</td>\n",
              "      <td>1</td>\n",
              "      <td>202279</td>\n",
              "      <td>prior</td>\n",
              "      <td>3</td>\n",
              "      <td>5</td>\n",
              "      <td>9</td>\n",
              "      <td>8.0</td>\n",
              "    </tr>\n",
              "    <tr>\n",
              "      <th>1</th>\n",
              "      <td>2</td>\n",
              "      <td>28985</td>\n",
              "      <td>2</td>\n",
              "      <td>1</td>\n",
              "      <td>202279</td>\n",
              "      <td>prior</td>\n",
              "      <td>3</td>\n",
              "      <td>5</td>\n",
              "      <td>9</td>\n",
              "      <td>8.0</td>\n",
              "    </tr>\n",
              "    <tr>\n",
              "      <th>2</th>\n",
              "      <td>2</td>\n",
              "      <td>9327</td>\n",
              "      <td>3</td>\n",
              "      <td>0</td>\n",
              "      <td>202279</td>\n",
              "      <td>prior</td>\n",
              "      <td>3</td>\n",
              "      <td>5</td>\n",
              "      <td>9</td>\n",
              "      <td>8.0</td>\n",
              "    </tr>\n",
              "    <tr>\n",
              "      <th>3</th>\n",
              "      <td>2</td>\n",
              "      <td>45918</td>\n",
              "      <td>4</td>\n",
              "      <td>1</td>\n",
              "      <td>202279</td>\n",
              "      <td>prior</td>\n",
              "      <td>3</td>\n",
              "      <td>5</td>\n",
              "      <td>9</td>\n",
              "      <td>8.0</td>\n",
              "    </tr>\n",
              "    <tr>\n",
              "      <th>4</th>\n",
              "      <td>2</td>\n",
              "      <td>30035</td>\n",
              "      <td>5</td>\n",
              "      <td>0</td>\n",
              "      <td>202279</td>\n",
              "      <td>prior</td>\n",
              "      <td>3</td>\n",
              "      <td>5</td>\n",
              "      <td>9</td>\n",
              "      <td>8.0</td>\n",
              "    </tr>\n",
              "  </tbody>\n",
              "</table>\n",
              "</div>"
            ],
            "text/plain": [
              "   order_id  product_id  ...  order_hour_of_day  days_since_prior_order\n",
              "0         2       33120  ...                  9                     8.0\n",
              "1         2       28985  ...                  9                     8.0\n",
              "2         2        9327  ...                  9                     8.0\n",
              "3         2       45918  ...                  9                     8.0\n",
              "4         2       30035  ...                  9                     8.0\n",
              "\n",
              "[5 rows x 10 columns]"
            ]
          },
          "metadata": {
            "tags": []
          },
          "execution_count": 40
        }
      ]
    },
    {
      "cell_type": "code",
      "metadata": {
        "id": "-kFJjY-nhH7K",
        "colab_type": "code",
        "outputId": "3701c86f-edbe-4a2c-803e-638e9a4df923",
        "colab": {
          "base_uri": "https://localhost:8080/",
          "height": 266
        }
      },
      "source": [
        "norders_dow = merged_order_dow[['order_dow','order_id']].groupby('order_dow')['order_id'].count().\\\n",
        "                reset_index(name='num_orders').sort_values(['num_orders'],ascending = False)\n",
        "\n",
        "norders_dow\n",
        "\n",
        "n_reorders_dow = merged_order_dow[merged_order_dow['eval_set'].isin(['prior', 'train']) & \\\n",
        "                                  merged_order_dow['reordered'] == 1].\\\n",
        "                groupby('order_dow')['reordered'].\\\n",
        "                sum().reset_index(name = 'num_orders').sort_values(['num_orders'],ascending = False)\n",
        "\n",
        "n_reorders_dow"
      ],
      "execution_count": 0,
      "outputs": [
        {
          "output_type": "execute_result",
          "data": {
            "text/html": [
              "<div>\n",
              "<style scoped>\n",
              "    .dataframe tbody tr th:only-of-type {\n",
              "        vertical-align: middle;\n",
              "    }\n",
              "\n",
              "    .dataframe tbody tr th {\n",
              "        vertical-align: top;\n",
              "    }\n",
              "\n",
              "    .dataframe thead th {\n",
              "        text-align: right;\n",
              "    }\n",
              "</style>\n",
              "<table border=\"1\" class=\"dataframe\">\n",
              "  <thead>\n",
              "    <tr style=\"text-align: right;\">\n",
              "      <th></th>\n",
              "      <th>order_dow</th>\n",
              "      <th>num_orders</th>\n",
              "    </tr>\n",
              "  </thead>\n",
              "  <tbody>\n",
              "    <tr>\n",
              "      <th>0</th>\n",
              "      <td>0</td>\n",
              "      <td>3831900</td>\n",
              "    </tr>\n",
              "    <tr>\n",
              "      <th>1</th>\n",
              "      <td>1</td>\n",
              "      <td>3544661</td>\n",
              "    </tr>\n",
              "    <tr>\n",
              "      <th>6</th>\n",
              "      <td>6</td>\n",
              "      <td>2708008</td>\n",
              "    </tr>\n",
              "    <tr>\n",
              "      <th>5</th>\n",
              "      <td>5</td>\n",
              "      <td>2613888</td>\n",
              "    </tr>\n",
              "    <tr>\n",
              "      <th>2</th>\n",
              "      <td>2</td>\n",
              "      <td>2582006</td>\n",
              "    </tr>\n",
              "    <tr>\n",
              "      <th>3</th>\n",
              "      <td>3</td>\n",
              "      <td>2344277</td>\n",
              "    </tr>\n",
              "    <tr>\n",
              "      <th>4</th>\n",
              "      <td>4</td>\n",
              "      <td>2330620</td>\n",
              "    </tr>\n",
              "  </tbody>\n",
              "</table>\n",
              "</div>"
            ],
            "text/plain": [
              "   order_dow  num_orders\n",
              "0          0     3831900\n",
              "1          1     3544661\n",
              "6          6     2708008\n",
              "5          5     2613888\n",
              "2          2     2582006\n",
              "3          3     2344277\n",
              "4          4     2330620"
            ]
          },
          "metadata": {
            "tags": []
          },
          "execution_count": 30
        }
      ]
    },
    {
      "cell_type": "code",
      "metadata": {
        "id": "0BG_XFidhH5K",
        "colab_type": "code",
        "outputId": "0dc2243a-6cbd-4b3b-dc24-21e1df4cc02d",
        "colab": {
          "base_uri": "https://localhost:8080/",
          "height": 336
        }
      },
      "source": [
        "fig, ax = plt.subplots(nrows = 1, ncols = 2, figsize = (15, 5))\n",
        "\n",
        "ax[0].bar('order_dow' , 'num_orders' ,data = norders_dow)\n",
        "ax[1].bar('order_dow' , 'num_orders' ,data = n_reorders_dow)\n",
        "ax[0].set_title('Number of orders on each weekday')\n",
        "ax[1].set_title('Number of re-orders on each weekday');"
      ],
      "execution_count": 0,
      "outputs": [
        {
          "output_type": "display_data",
          "data": {
            "image/png": "[encoded data removed]",
            "text/plain": [
              "<Figure size 1080x360 with 2 Axes>"
            ]
          },
          "metadata": {
            "tags": [],
            "needs_background": "light"
          }
        }
      ]
    },
    {
      "cell_type": "markdown",
      "metadata": {
        "id": "4LuN0tvKh6gL",
        "colab_type": "text"
      },
      "source": [
        "### Observation\n",
        "\n",
        "Assuming Day0 as Saturday, we see that the number of orders as well as number of re-orders are very high on Saturday and Sunday while it is the lowest on Wednesday. This might be an important factor for modelling the probability of an item re-order."
      ]
    },
    {
      "cell_type": "markdown",
      "metadata": {
        "id": "XmklI6Keh-6q",
        "colab_type": "text"
      },
      "source": [
        "### Q4. What hour of the day has the highest orders and reorders?\n"
      ]
    },
    {
      "cell_type": "code",
      "metadata": {
        "id": "YlBXf7tlh7aa",
        "colab_type": "code",
        "colab": {}
      },
      "source": [
        "norders_hod = merged_order_dow[['order_hour_of_day','order_id']].groupby('order_hour_of_day')['order_id'].count().\\\n",
        "                reset_index(name='num_orders').sort_values(['num_orders'],ascending = False)\n",
        "\n",
        "\n",
        "\n",
        "n_reorders_hod = merged_order_dow[merged_order_dow['eval_set'].isin(['prior', 'train']) & \\\n",
        "                                  merged_order_dow['reordered'] == 1].\\\n",
        "                groupby('order_hour_of_day')['reordered'].\\\n",
        "                sum().reset_index(name = 'num_reorders').sort_values(['num_reorders'],ascending = False)"
      ],
      "execution_count": 0,
      "outputs": []
    },
    {
      "cell_type": "code",
      "metadata": {
        "id": "IGTYaH4TiCNY",
        "colab_type": "code",
        "outputId": "a0c75d43-d348-4496-e043-dfcb7cfab170",
        "colab": {
          "base_uri": "https://localhost:8080/",
          "height": 395
        }
      },
      "source": [
        "\n",
        "fig, ax = plt.subplots(nrows = 2, ncols = 1, figsize = (20, 8))\n",
        "fig.tight_layout(pad=3.0)\n",
        "ax[0].bar('order_hour_of_day' , 'num_orders' ,data = norders_hod)\n",
        "ax[1].bar('order_hour_of_day' , 'num_reorders' ,data = n_reorders_hod)\n",
        "ax[0].set_ylabel('Number of orders',fontsize=15)\n",
        "ax[1].set_ylabel('Number of orders', fontsize=15)\n",
        "ax[1].set_xlabel('Hour of the day', fontsize=15)\n",
        "ax[0].set_title('Number of orders at each hour of the day', fontsize = 20)\n",
        "ax[1].set_title('Number of re-orders each hour of the day', fontsize = 20);"
      ],
      "execution_count": 0,
      "outputs": [
        {
          "output_type": "display_data",
          "data": {
            "image/png": "[encoded data removed]",
            "text/plain": [
              "<Figure size 1440x576 with 2 Axes>"
            ]
          },
          "metadata": {
            "tags": [],
            "needs_background": "light"
          }
        }
      ]
    },
    {
      "cell_type": "markdown",
      "metadata": {
        "id": "b0BxjZ_JiI3T",
        "colab_type": "text"
      },
      "source": [
        "### Observation\n",
        "Between 10AM and 3PM the orders are high. During early hours from midnight till 5AM, the number of orders placed are less."
      ]
    },
    {
      "cell_type": "code",
      "metadata": {
        "id": "AJqkx_jliF55",
        "colab_type": "code",
        "outputId": "c76ceb45-4f4b-473d-d317-53d4259abe0d",
        "colab": {
          "base_uri": "https://localhost:8080/",
          "height": 204
        }
      },
      "source": [
        "orders.head()"
      ],
      "execution_count": 0,
      "outputs": [
        {
          "output_type": "execute_result",
          "data": {
            "text/html": [
              "<div>\n",
              "<style scoped>\n",
              "    .dataframe tbody tr th:only-of-type {\n",
              "        vertical-align: middle;\n",
              "    }\n",
              "\n",
              "    .dataframe tbody tr th {\n",
              "        vertical-align: top;\n",
              "    }\n",
              "\n",
              "    .dataframe thead th {\n",
              "        text-align: right;\n",
              "    }\n",
              "</style>\n",
              "<table border=\"1\" class=\"dataframe\">\n",
              "  <thead>\n",
              "    <tr style=\"text-align: right;\">\n",
              "      <th></th>\n",
              "      <th>order_id</th>\n",
              "      <th>user_id</th>\n",
              "      <th>eval_set</th>\n",
              "      <th>order_number</th>\n",
              "      <th>order_dow</th>\n",
              "      <th>order_hour_of_day</th>\n",
              "      <th>days_since_prior_order</th>\n",
              "    </tr>\n",
              "  </thead>\n",
              "  <tbody>\n",
              "    <tr>\n",
              "      <th>0</th>\n",
              "      <td>2539329</td>\n",
              "      <td>1</td>\n",
              "      <td>prior</td>\n",
              "      <td>1</td>\n",
              "      <td>2</td>\n",
              "      <td>8</td>\n",
              "      <td>NaN</td>\n",
              "    </tr>\n",
              "    <tr>\n",
              "      <th>1</th>\n",
              "      <td>2398795</td>\n",
              "      <td>1</td>\n",
              "      <td>prior</td>\n",
              "      <td>2</td>\n",
              "      <td>3</td>\n",
              "      <td>7</td>\n",
              "      <td>15.0</td>\n",
              "    </tr>\n",
              "    <tr>\n",
              "      <th>2</th>\n",
              "      <td>473747</td>\n",
              "      <td>1</td>\n",
              "      <td>prior</td>\n",
              "      <td>3</td>\n",
              "      <td>3</td>\n",
              "      <td>12</td>\n",
              "      <td>21.0</td>\n",
              "    </tr>\n",
              "    <tr>\n",
              "      <th>3</th>\n",
              "      <td>2254736</td>\n",
              "      <td>1</td>\n",
              "      <td>prior</td>\n",
              "      <td>4</td>\n",
              "      <td>4</td>\n",
              "      <td>7</td>\n",
              "      <td>29.0</td>\n",
              "    </tr>\n",
              "    <tr>\n",
              "      <th>4</th>\n",
              "      <td>431534</td>\n",
              "      <td>1</td>\n",
              "      <td>prior</td>\n",
              "      <td>5</td>\n",
              "      <td>4</td>\n",
              "      <td>15</td>\n",
              "      <td>28.0</td>\n",
              "    </tr>\n",
              "  </tbody>\n",
              "</table>\n",
              "</div>"
            ],
            "text/plain": [
              "   order_id  user_id  ... order_hour_of_day  days_since_prior_order\n",
              "0   2539329        1  ...                 8                     NaN\n",
              "1   2398795        1  ...                 7                    15.0\n",
              "2    473747        1  ...                12                    21.0\n",
              "3   2254736        1  ...                 7                    29.0\n",
              "4    431534        1  ...                15                    28.0\n",
              "\n",
              "[5 rows x 7 columns]"
            ]
          },
          "metadata": {
            "tags": []
          },
          "execution_count": 34
        }
      ]
    },
    {
      "cell_type": "code",
      "metadata": {
        "id": "13spNSxEm2Lj",
        "colab_type": "code",
        "colab": {
          "base_uri": "https://localhost:8080/",
          "height": 34
        },
        "outputId": "e9ff0149-c455-4425-9eac-4cdb27377712"
      },
      "source": [
        "ordered_pdts_all = pd.concat([order_pdts_prior,order_pdts_train], axis = 0)\n",
        "ordered_pdts_all.shape"
      ],
      "execution_count": 37,
      "outputs": [
        {
          "output_type": "execute_result",
          "data": {
            "text/plain": [
              "(33819106, 4)"
            ]
          },
          "metadata": {
            "tags": []
          },
          "execution_count": 37
        }
      ]
    },
    {
      "cell_type": "code",
      "metadata": {
        "id": "q0MxV2eQiQ7m",
        "colab_type": "code",
        "outputId": "58f06a0a-2841-4e46-ea26-fe6b6f99f0b1",
        "colab": {
          "base_uri": "https://localhost:8080/",
          "height": 204
        }
      },
      "source": [
        "ordered_pdts_all.head()"
      ],
      "execution_count": 38,
      "outputs": [
        {
          "output_type": "execute_result",
          "data": {
            "text/html": [
              "<div>\n",
              "<style scoped>\n",
              "    .dataframe tbody tr th:only-of-type {\n",
              "        vertical-align: middle;\n",
              "    }\n",
              "\n",
              "    .dataframe tbody tr th {\n",
              "        vertical-align: top;\n",
              "    }\n",
              "\n",
              "    .dataframe thead th {\n",
              "        text-align: right;\n",
              "    }\n",
              "</style>\n",
              "<table border=\"1\" class=\"dataframe\">\n",
              "  <thead>\n",
              "    <tr style=\"text-align: right;\">\n",
              "      <th></th>\n",
              "      <th>order_id</th>\n",
              "      <th>product_id</th>\n",
              "      <th>add_to_cart_order</th>\n",
              "      <th>reordered</th>\n",
              "    </tr>\n",
              "  </thead>\n",
              "  <tbody>\n",
              "    <tr>\n",
              "      <th>0</th>\n",
              "      <td>2</td>\n",
              "      <td>33120</td>\n",
              "      <td>1</td>\n",
              "      <td>1</td>\n",
              "    </tr>\n",
              "    <tr>\n",
              "      <th>1</th>\n",
              "      <td>2</td>\n",
              "      <td>28985</td>\n",
              "      <td>2</td>\n",
              "      <td>1</td>\n",
              "    </tr>\n",
              "    <tr>\n",
              "      <th>2</th>\n",
              "      <td>2</td>\n",
              "      <td>9327</td>\n",
              "      <td>3</td>\n",
              "      <td>0</td>\n",
              "    </tr>\n",
              "    <tr>\n",
              "      <th>3</th>\n",
              "      <td>2</td>\n",
              "      <td>45918</td>\n",
              "      <td>4</td>\n",
              "      <td>1</td>\n",
              "    </tr>\n",
              "    <tr>\n",
              "      <th>4</th>\n",
              "      <td>2</td>\n",
              "      <td>30035</td>\n",
              "      <td>5</td>\n",
              "      <td>0</td>\n",
              "    </tr>\n",
              "  </tbody>\n",
              "</table>\n",
              "</div>"
            ],
            "text/plain": [
              "   order_id  product_id  add_to_cart_order  reordered\n",
              "0         2       33120                  1          1\n",
              "1         2       28985                  2          1\n",
              "2         2        9327                  3          0\n",
              "3         2       45918                  4          1\n",
              "4         2       30035                  5          0"
            ]
          },
          "metadata": {
            "tags": []
          },
          "execution_count": 38
        }
      ]
    },
    {
      "cell_type": "markdown",
      "metadata": {
        "id": "wDUIwSEkiX66",
        "colab_type": "text"
      },
      "source": [
        "### Q5. Does the order in which the items are added to cart have an impact on the item re-purchase?"
      ]
    },
    {
      "cell_type": "code",
      "metadata": {
        "id": "pQpNZ54TiYiy",
        "colab_type": "code",
        "colab": {}
      },
      "source": [
        "#merged_order.add_to_cart_order.nunique()\n",
        "#add_to_cart_order has totally 145 unique entries\n",
        "\n",
        "n_reorders_cart = merged_order[merged_order['eval_set'].isin(['prior', 'train']) & \\\n",
        "                                  merged_order['reordered'] == 1].\\\n",
        "                groupby('add_to_cart_order')['reordered'].\\\n",
        "                sum().reset_index(name = 'num_reorders').sort_values(['num_reorders'],ascending = False).\\\n",
        "                nlargest(40, 'num_reorders')"
      ],
      "execution_count": 0,
      "outputs": []
    },
    {
      "cell_type": "code",
      "metadata": {
        "id": "GtAXFlYeiaHT",
        "colab_type": "code",
        "colab": {
          "base_uri": "https://localhost:8080/",
          "height": 346
        },
        "outputId": "67c8fd28-7428-4d24-f157-ad700b47289a"
      },
      "source": [
        "plt.figure(figsize = (15,5))\n",
        "sns.barplot(x = 'add_to_cart_order', y = 'num_reorders', data = n_reorders_cart);"
      ],
      "execution_count": 42,
      "outputs": [
        {
          "output_type": "display_data",
          "data": {
            "image/png": "[encoded data removed]",
            "text/plain": [
              "<Figure size 1080x360 with 1 Axes>"
            ]
          },
          "metadata": {
            "tags": [],
            "needs_background": "light"
          }
        }
      ]
    },
    {
      "cell_type": "markdown",
      "metadata": {
        "id": "GGKnk-SEnJ4A",
        "colab_type": "text"
      },
      "source": [
        "### Observation\n",
        "The interesting pattern we observe here is that the items that are added first to the cart are often always reordered by the customers.\n",
        "\n",
        "This pattern slowly fades for the items added to cart later in time.\n",
        "\n",
        "Next let's see what is the top 10 frequently reordered products and their departments."
      ]
    },
    {
      "cell_type": "code",
      "metadata": {
        "id": "POPQwUOanKgm",
        "colab_type": "code",
        "colab": {
          "base_uri": "https://localhost:8080/",
          "height": 204
        },
        "outputId": "7254e824-9baf-45ad-a816-b1d76f836d5d"
      },
      "source": [
        "merged_order.head()"
      ],
      "execution_count": 43,
      "outputs": [
        {
          "output_type": "execute_result",
          "data": {
            "text/html": [
              "<div>\n",
              "<style scoped>\n",
              "    .dataframe tbody tr th:only-of-type {\n",
              "        vertical-align: middle;\n",
              "    }\n",
              "\n",
              "    .dataframe tbody tr th {\n",
              "        vertical-align: top;\n",
              "    }\n",
              "\n",
              "    .dataframe thead th {\n",
              "        text-align: right;\n",
              "    }\n",
              "</style>\n",
              "<table border=\"1\" class=\"dataframe\">\n",
              "  <thead>\n",
              "    <tr style=\"text-align: right;\">\n",
              "      <th></th>\n",
              "      <th>order_id</th>\n",
              "      <th>product_id</th>\n",
              "      <th>add_to_cart_order</th>\n",
              "      <th>reordered</th>\n",
              "      <th>user_id</th>\n",
              "      <th>eval_set</th>\n",
              "      <th>order_number</th>\n",
              "      <th>order_dow</th>\n",
              "      <th>order_hour_of_day</th>\n",
              "      <th>days_since_prior_order</th>\n",
              "    </tr>\n",
              "  </thead>\n",
              "  <tbody>\n",
              "    <tr>\n",
              "      <th>0</th>\n",
              "      <td>2</td>\n",
              "      <td>33120</td>\n",
              "      <td>1</td>\n",
              "      <td>1</td>\n",
              "      <td>202279</td>\n",
              "      <td>prior</td>\n",
              "      <td>3</td>\n",
              "      <td>5</td>\n",
              "      <td>9</td>\n",
              "      <td>8.0</td>\n",
              "    </tr>\n",
              "    <tr>\n",
              "      <th>1</th>\n",
              "      <td>2</td>\n",
              "      <td>28985</td>\n",
              "      <td>2</td>\n",
              "      <td>1</td>\n",
              "      <td>202279</td>\n",
              "      <td>prior</td>\n",
              "      <td>3</td>\n",
              "      <td>5</td>\n",
              "      <td>9</td>\n",
              "      <td>8.0</td>\n",
              "    </tr>\n",
              "    <tr>\n",
              "      <th>2</th>\n",
              "      <td>2</td>\n",
              "      <td>9327</td>\n",
              "      <td>3</td>\n",
              "      <td>0</td>\n",
              "      <td>202279</td>\n",
              "      <td>prior</td>\n",
              "      <td>3</td>\n",
              "      <td>5</td>\n",
              "      <td>9</td>\n",
              "      <td>8.0</td>\n",
              "    </tr>\n",
              "    <tr>\n",
              "      <th>3</th>\n",
              "      <td>2</td>\n",
              "      <td>45918</td>\n",
              "      <td>4</td>\n",
              "      <td>1</td>\n",
              "      <td>202279</td>\n",
              "      <td>prior</td>\n",
              "      <td>3</td>\n",
              "      <td>5</td>\n",
              "      <td>9</td>\n",
              "      <td>8.0</td>\n",
              "    </tr>\n",
              "    <tr>\n",
              "      <th>4</th>\n",
              "      <td>2</td>\n",
              "      <td>30035</td>\n",
              "      <td>5</td>\n",
              "      <td>0</td>\n",
              "      <td>202279</td>\n",
              "      <td>prior</td>\n",
              "      <td>3</td>\n",
              "      <td>5</td>\n",
              "      <td>9</td>\n",
              "      <td>8.0</td>\n",
              "    </tr>\n",
              "  </tbody>\n",
              "</table>\n",
              "</div>"
            ],
            "text/plain": [
              "   order_id  product_id  ...  order_hour_of_day  days_since_prior_order\n",
              "0         2       33120  ...                  9                     8.0\n",
              "1         2       28985  ...                  9                     8.0\n",
              "2         2        9327  ...                  9                     8.0\n",
              "3         2       45918  ...                  9                     8.0\n",
              "4         2       30035  ...                  9                     8.0\n",
              "\n",
              "[5 rows x 10 columns]"
            ]
          },
          "metadata": {
            "tags": []
          },
          "execution_count": 43
        }
      ]
    },
    {
      "cell_type": "code",
      "metadata": {
        "id": "4GLPZ7RpnLz4",
        "colab_type": "code",
        "colab": {}
      },
      "source": [
        "#merged_order[['product_id', 'days_since_prior_order', 'reordered', 'eval_set']].head()\n",
        "\n",
        "pdts_days_prior_order = merged_order[['product_id', 'days_since_prior_order', 'reordered', 'eval_set']].\\\n",
        "    loc[merged_order['eval_set'].isin(['train','prior'])]"
      ],
      "execution_count": 0,
      "outputs": []
    },
    {
      "cell_type": "code",
      "metadata": {
        "id": "0CJjItkGnN-a",
        "colab_type": "code",
        "colab": {}
      },
      "source": [
        "freq_ordered_pdts = pdts_days_prior_order.groupby('product_id')['days_since_prior_order'].mean().\\\n",
        "    reset_index(name = 'mean_days_since_prior_order').sort_values(['mean_days_since_prior_order'])#.\\\n",
        "                #nsmallest(100, 'mean_days_since_prior_order')\n",
        "\n",
        "merged_pdts_gp1 = pd.merge(freq_ordered_pdts, products, on = 'product_id', how = 'left').merge(departments, on = 'department_id', how = 'left')\n",
        "\n"
      ],
      "execution_count": 0,
      "outputs": []
    },
    {
      "cell_type": "code",
      "metadata": {
        "id": "DBu7tEdRnP79",
        "colab_type": "code",
        "colab": {
          "base_uri": "https://localhost:8080/",
          "height": 34
        },
        "outputId": "af132325-8ac9-4d88-808a-7f6c6d0db7d0"
      },
      "source": [
        "merged_pdts_gp1.shape\n",
        "merged_pdts_gp1.product_id.nunique()"
      ],
      "execution_count": 46,
      "outputs": [
        {
          "output_type": "execute_result",
          "data": {
            "text/plain": [
              "49685"
            ]
          },
          "metadata": {
            "tags": []
          },
          "execution_count": 46
        }
      ]
    },
    {
      "cell_type": "code",
      "metadata": {
        "id": "Q_O3Fcb1nSaY",
        "colab_type": "code",
        "colab": {
          "base_uri": "https://localhost:8080/",
          "height": 34
        },
        "outputId": "7011ab18-67e2-4d50-8253-ff26070324f3"
      },
      "source": [
        "products.shape"
      ],
      "execution_count": 47,
      "outputs": [
        {
          "output_type": "execute_result",
          "data": {
            "text/plain": [
              "(49688, 4)"
            ]
          },
          "metadata": {
            "tags": []
          },
          "execution_count": 47
        }
      ]
    },
    {
      "cell_type": "markdown",
      "metadata": {
        "id": "rGjNa6yknXjk",
        "colab_type": "text"
      },
      "source": [
        "### Observation\n",
        "Here's a key observation that the product_id in products table do not match with the number of product_ids in the merged orders table.\n",
        "\n",
        "It seems that some products have never been ordered.\n",
        "\n",
        "Hence in the test data in future, if we come across such unordered products, we might have sufficient information to predict their probability of purchase."
      ]
    },
    {
      "cell_type": "code",
      "metadata": {
        "id": "DEm7qqf8nUIF",
        "colab_type": "code",
        "colab": {
          "base_uri": "https://localhost:8080/",
          "height": 34
        },
        "outputId": "1756eebc-1b1f-4225-968a-153a09056176"
      },
      "source": [
        "# Find product_ids that have never been ordered\n",
        "\n",
        "set(products.product_id).symmetric_difference(merged_order.product_id)\n",
        "#order_pdts_train[order_pdts_train['product_id'].isin([3630, 7045, 46625])]"
      ],
      "execution_count": 48,
      "outputs": [
        {
          "output_type": "execute_result",
          "data": {
            "text/plain": [
              "{3630, 7045, 46625}"
            ]
          },
          "metadata": {
            "tags": []
          },
          "execution_count": 48
        }
      ]
    },
    {
      "cell_type": "code",
      "metadata": {
        "id": "XrDVToRrnZ75",
        "colab_type": "code",
        "colab": {
          "base_uri": "https://localhost:8080/",
          "height": 142
        },
        "outputId": "706caa98-ba55-47dc-86e1-9550082e79da"
      },
      "source": [
        "#Find what department these products belong to\n",
        "products.head()\n",
        "products[products['product_id'].isin([3630, 7045, 46625])].\\\n",
        "    merge(departments, on = 'department_id', how = 'inner', indicator=False)"
      ],
      "execution_count": 49,
      "outputs": [
        {
          "output_type": "execute_result",
          "data": {
            "text/html": [
              "<div>\n",
              "<style scoped>\n",
              "    .dataframe tbody tr th:only-of-type {\n",
              "        vertical-align: middle;\n",
              "    }\n",
              "\n",
              "    .dataframe tbody tr th {\n",
              "        vertical-align: top;\n",
              "    }\n",
              "\n",
              "    .dataframe thead th {\n",
              "        text-align: right;\n",
              "    }\n",
              "</style>\n",
              "<table border=\"1\" class=\"dataframe\">\n",
              "  <thead>\n",
              "    <tr style=\"text-align: right;\">\n",
              "      <th></th>\n",
              "      <th>product_id</th>\n",
              "      <th>product_name</th>\n",
              "      <th>aisle_id</th>\n",
              "      <th>department_id</th>\n",
              "      <th>department</th>\n",
              "    </tr>\n",
              "  </thead>\n",
              "  <tbody>\n",
              "    <tr>\n",
              "      <th>0</th>\n",
              "      <td>3630</td>\n",
              "      <td>Protein Granola Apple Crisp</td>\n",
              "      <td>57</td>\n",
              "      <td>14</td>\n",
              "      <td>breakfast</td>\n",
              "    </tr>\n",
              "    <tr>\n",
              "      <th>1</th>\n",
              "      <td>7045</td>\n",
              "      <td>Unpeeled Apricot Halves in Heavy Syrup</td>\n",
              "      <td>88</td>\n",
              "      <td>13</td>\n",
              "      <td>pantry</td>\n",
              "    </tr>\n",
              "    <tr>\n",
              "      <th>2</th>\n",
              "      <td>46625</td>\n",
              "      <td>Single Barrel Kentucky Straight Bourbon Whiskey</td>\n",
              "      <td>31</td>\n",
              "      <td>7</td>\n",
              "      <td>beverages</td>\n",
              "    </tr>\n",
              "  </tbody>\n",
              "</table>\n",
              "</div>"
            ],
            "text/plain": [
              "   product_id  ... department\n",
              "0        3630  ...  breakfast\n",
              "1        7045  ...     pantry\n",
              "2       46625  ...  beverages\n",
              "\n",
              "[3 rows x 5 columns]"
            ]
          },
          "metadata": {
            "tags": []
          },
          "execution_count": 49
        }
      ]
    },
    {
      "cell_type": "code",
      "metadata": {
        "id": "v0emKEDqncnX",
        "colab_type": "code",
        "colab": {}
      },
      "source": [
        ""
      ],
      "execution_count": 0,
      "outputs": []
    },
    {
      "cell_type": "markdown",
      "metadata": {
        "id": "Q8X0G2FJneOX",
        "colab_type": "text"
      },
      "source": [
        "One or more of the products in the 'breakfast', 'pantry' and 'beverages' have no order history. Now, coming back to the most frequently ordered/re-ordered products."
      ]
    },
    {
      "cell_type": "code",
      "metadata": {
        "id": "1QDwlMZsne2K",
        "colab_type": "code",
        "colab": {}
      },
      "source": [
        "merged_pdts_gp1['mean_days_since_prior_order'] = merged_pdts_gp1['mean_days_since_prior_order'].apply(np.ceil)\n",
        "\n",
        "order_interval = merged_pdts_gp1.groupby('mean_days_since_prior_order').agg({'product_id': 'nunique'}).reset_index(drop = False)"
      ],
      "execution_count": 0,
      "outputs": []
    },
    {
      "cell_type": "code",
      "metadata": {
        "id": "iA5QJDtkng0-",
        "colab_type": "code",
        "colab": {
          "base_uri": "https://localhost:8080/",
          "height": 356
        },
        "outputId": "fa2ec404-f1f8-40e3-8a55-ca6c13b27852"
      },
      "source": [
        "plt.figure(figsize = (15,5))\n",
        "sns.barplot(x = 'mean_days_since_prior_order' , y = 'product_id', data = order_interval)\n",
        "plt.title('Relative Frequency of re-order for unique product_id', fontsize = 20)\n",
        "plt.ylabel('Number of Distinct Product_id');"
      ],
      "execution_count": 51,
      "outputs": [
        {
          "output_type": "display_data",
          "data": {
            "image/png": "[encoded data removed]",
            "text/plain": [
              "<Figure size 1080x360 with 1 Axes>"
            ]
          },
          "metadata": {
            "tags": [],
            "needs_background": "light"
          }
        }
      ]
    },
    {
      "cell_type": "markdown",
      "metadata": {
        "id": "Vs5x1v6QnlFt",
        "colab_type": "text"
      },
      "source": [
        "### Observation:\n",
        "\n",
        "We see that on an average, the maximum number of unique products are getting reordered on the 12th day from the previous order.\n"
      ]
    },
    {
      "cell_type": "code",
      "metadata": {
        "id": "2v-dPv3LnizS",
        "colab_type": "code",
        "colab": {}
      },
      "source": [
        "pdt_names_reordered = merged_pdts_gp1[merged_pdts_gp1.mean_days_since_prior_order <= 12.000].groupby(['mean_days_since_prior_order']).\\\n",
        "    agg({'product_name': 'unique', 'department_id' : 'unique', 'department' : 'unique'}).reset_index(drop = False)"
      ],
      "execution_count": 0,
      "outputs": []
    },
    {
      "cell_type": "code",
      "metadata": {
        "id": "3JI6P9OcnnMq",
        "colab_type": "code",
        "colab": {
          "base_uri": "https://localhost:8080/",
          "height": 297
        },
        "outputId": "457ad738-4ff2-4461-a94a-00e38e304b7c"
      },
      "source": [
        "pdt_names_reordered[pdt_names_reordered['mean_days_since_prior_order'] <= 7.000 ]"
      ],
      "execution_count": 53,
      "outputs": [
        {
          "output_type": "execute_result",
          "data": {
            "text/html": [
              "<div>\n",
              "<style scoped>\n",
              "    .dataframe tbody tr th:only-of-type {\n",
              "        vertical-align: middle;\n",
              "    }\n",
              "\n",
              "    .dataframe tbody tr th {\n",
              "        vertical-align: top;\n",
              "    }\n",
              "\n",
              "    .dataframe thead th {\n",
              "        text-align: right;\n",
              "    }\n",
              "</style>\n",
              "<table border=\"1\" class=\"dataframe\">\n",
              "  <thead>\n",
              "    <tr style=\"text-align: right;\">\n",
              "      <th></th>\n",
              "      <th>mean_days_since_prior_order</th>\n",
              "      <th>product_name</th>\n",
              "      <th>department_id</th>\n",
              "      <th>department</th>\n",
              "    </tr>\n",
              "  </thead>\n",
              "  <tbody>\n",
              "    <tr>\n",
              "      <th>0</th>\n",
              "      <td>0.0</td>\n",
              "      <td>[Organic Veggie Ground, Amaretto Almond Crunch...</td>\n",
              "      <td>[20, 1, 7]</td>\n",
              "      <td>[deli, frozen, beverages]</td>\n",
              "    </tr>\n",
              "    <tr>\n",
              "      <th>1</th>\n",
              "      <td>1.0</td>\n",
              "      <td>[Pomegranate Energy Shot, Black Olive Spread, ...</td>\n",
              "      <td>[7, 13, 5]</td>\n",
              "      <td>[beverages, pantry, alcohol]</td>\n",
              "    </tr>\n",
              "    <tr>\n",
              "      <th>2</th>\n",
              "      <td>2.0</td>\n",
              "      <td>[Ear Relief Ear Drops, Iced Green Tea Zero Cal...</td>\n",
              "      <td>[11, 7, 13, 1, 19, 17, 21, 9, 6, 5, 8, 2]</td>\n",
              "      <td>[personal care, beverages, pantry, frozen, sna...</td>\n",
              "    </tr>\n",
              "    <tr>\n",
              "      <th>3</th>\n",
              "      <td>3.0</td>\n",
              "      <td>[Strawman Farmhouse Hard Cider, Hickory Smokin...</td>\n",
              "      <td>[5, 19, 11, 8, 21, 1, 13, 17, 7, 3, 16, 6, 20,...</td>\n",
              "      <td>[alcohol, snacks, personal care, pets, missing...</td>\n",
              "    </tr>\n",
              "    <tr>\n",
              "      <th>4</th>\n",
              "      <td>4.0</td>\n",
              "      <td>[Quercetin 500 Mg, Clams, Whole Cooked &amp; Farm ...</td>\n",
              "      <td>[11, 1, 19, 13, 9, 12, 2, 17, 5, 18, 20, 7, 6,...</td>\n",
              "      <td>[personal care, frozen, snacks, pantry, dry go...</td>\n",
              "    </tr>\n",
              "    <tr>\n",
              "      <th>5</th>\n",
              "      <td>5.0</td>\n",
              "      <td>[Terry Scouring Cloth, Dark 83% Pure Dark Choc...</td>\n",
              "      <td>[17, 19, 5, 4, 1, 2, 21, 13, 11, 3, 20, 7, 12,...</td>\n",
              "      <td>[household, snacks, alcohol, produce, frozen, ...</td>\n",
              "    </tr>\n",
              "    <tr>\n",
              "      <th>6</th>\n",
              "      <td>6.0</td>\n",
              "      <td>[Raspberry Vinaigrette Salad Snax, Organic Euc...</td>\n",
              "      <td>[19, 2, 21, 11, 13, 1, 17, 7, 3, 15, 5, 18, 16...</td>\n",
              "      <td>[snacks, other, missing, personal care, pantry...</td>\n",
              "    </tr>\n",
              "    <tr>\n",
              "      <th>7</th>\n",
              "      <td>7.0</td>\n",
              "      <td>[Baking &amp; Drinking Wondercocoa, Rose Absolute ...</td>\n",
              "      <td>[7, 17, 6, 13, 11, 18, 5, 16, 9, 19, 3, 15, 21...</td>\n",
              "      <td>[beverages, household, international, pantry, ...</td>\n",
              "    </tr>\n",
              "  </tbody>\n",
              "</table>\n",
              "</div>"
            ],
            "text/plain": [
              "   mean_days_since_prior_order  ...                                         department\n",
              "0                          0.0  ...                          [deli, frozen, beverages]\n",
              "1                          1.0  ...                       [beverages, pantry, alcohol]\n",
              "2                          2.0  ...  [personal care, beverages, pantry, frozen, sna...\n",
              "3                          3.0  ...  [alcohol, snacks, personal care, pets, missing...\n",
              "4                          4.0  ...  [personal care, frozen, snacks, pantry, dry go...\n",
              "5                          5.0  ...  [household, snacks, alcohol, produce, frozen, ...\n",
              "6                          6.0  ...  [snacks, other, missing, personal care, pantry...\n",
              "7                          7.0  ...  [beverages, household, international, pantry, ...\n",
              "\n",
              "[8 rows x 4 columns]"
            ]
          },
          "metadata": {
            "tags": []
          },
          "execution_count": 53
        }
      ]
    },
    {
      "cell_type": "code",
      "metadata": {
        "id": "nSx8gEvLnpD2",
        "colab_type": "code",
        "colab": {}
      },
      "source": [
        "\n",
        "list_of_departments = pdt_names_reordered['department'].to_list()\n",
        "flat_list = [item for sublist in list_of_departments for item in sublist]"
      ],
      "execution_count": 0,
      "outputs": []
    },
    {
      "cell_type": "markdown",
      "metadata": {
        "id": "8sGK6IgKns46",
        "colab_type": "text"
      },
      "source": [
        "### Which departments have highest number of orders?\n",
        "\n",
        "#### WordCloud"
      ]
    },
    {
      "cell_type": "code",
      "metadata": {
        "id": "6-srG6bgnqv4",
        "colab_type": "code",
        "colab": {
          "base_uri": "https://localhost:8080/",
          "height": 415
        },
        "outputId": "b5ff3149-d544-4788-ffd2-9ae039cbd671"
      },
      "source": [
        "from wordcloud import WordCloud,STOPWORDS\n",
        "text = (\" \").join(flat_list)\n",
        "wordcloud = WordCloud(\n",
        "    width = 3000,\n",
        "    height = 2000,\n",
        "    background_color = 'white',\n",
        "    stopwords = STOPWORDS).generate(str(text))\n",
        "fig = plt.figure(\n",
        "    figsize = (8, 10),\n",
        "    facecolor = 'k',\n",
        "    edgecolor = 'k')\n",
        "plt.imshow(wordcloud, interpolation = 'bilinear')\n",
        "plt.axis('off')\n",
        "plt.tight_layout(pad=0)\n",
        "plt.show()"
      ],
      "execution_count": 56,
      "outputs": [
        {
          "output_type": "display_data",
          "data": {
            "image/png": "[encoded data removed]",
            "text/plain": [
              "<Figure size 576x720 with 1 Axes>"
            ]
          },
          "metadata": {
            "tags": []
          }
        }
      ]
    },
    {
      "cell_type": "markdown",
      "metadata": {
        "id": "ryB02wpkoCV9",
        "colab_type": "text"
      },
      "source": [
        "### Observations\n",
        "\n",
        "Reorders are more frequent for departments like beverages, snacks, pantry, alcohol and frozen.\n",
        "\n",
        "### Q6. What products are getting reordered?"
      ]
    },
    {
      "cell_type": "code",
      "metadata": {
        "id": "O7tSgrjKn2Tg",
        "colab_type": "code",
        "colab": {}
      },
      "source": [
        "ordered_pdts_merge_gp2 = ordered_pdts_all.merge(products, on = 'product_id', how = 'left').\\\n",
        "                            merge(aisles, on = 'aisle_id', how = 'left')"
      ],
      "execution_count": 0,
      "outputs": []
    },
    {
      "cell_type": "code",
      "metadata": {
        "id": "6XVie3XroHgX",
        "colab_type": "code",
        "colab": {
          "base_uri": "https://localhost:8080/",
          "height": 204
        },
        "outputId": "80cb849d-d583-4697-ef36-9f6b048a393f"
      },
      "source": [
        "ordered_pdts_merge_gp2.head()"
      ],
      "execution_count": 58,
      "outputs": [
        {
          "output_type": "execute_result",
          "data": {
            "text/html": [
              "<div>\n",
              "<style scoped>\n",
              "    .dataframe tbody tr th:only-of-type {\n",
              "        vertical-align: middle;\n",
              "    }\n",
              "\n",
              "    .dataframe tbody tr th {\n",
              "        vertical-align: top;\n",
              "    }\n",
              "\n",
              "    .dataframe thead th {\n",
              "        text-align: right;\n",
              "    }\n",
              "</style>\n",
              "<table border=\"1\" class=\"dataframe\">\n",
              "  <thead>\n",
              "    <tr style=\"text-align: right;\">\n",
              "      <th></th>\n",
              "      <th>order_id</th>\n",
              "      <th>product_id</th>\n",
              "      <th>add_to_cart_order</th>\n",
              "      <th>reordered</th>\n",
              "      <th>product_name</th>\n",
              "      <th>aisle_id</th>\n",
              "      <th>department_id</th>\n",
              "      <th>aisle</th>\n",
              "    </tr>\n",
              "  </thead>\n",
              "  <tbody>\n",
              "    <tr>\n",
              "      <th>0</th>\n",
              "      <td>2</td>\n",
              "      <td>33120</td>\n",
              "      <td>1</td>\n",
              "      <td>1</td>\n",
              "      <td>Organic Egg Whites</td>\n",
              "      <td>86</td>\n",
              "      <td>16</td>\n",
              "      <td>eggs</td>\n",
              "    </tr>\n",
              "    <tr>\n",
              "      <th>1</th>\n",
              "      <td>2</td>\n",
              "      <td>28985</td>\n",
              "      <td>2</td>\n",
              "      <td>1</td>\n",
              "      <td>Michigan Organic Kale</td>\n",
              "      <td>83</td>\n",
              "      <td>4</td>\n",
              "      <td>fresh vegetables</td>\n",
              "    </tr>\n",
              "    <tr>\n",
              "      <th>2</th>\n",
              "      <td>2</td>\n",
              "      <td>9327</td>\n",
              "      <td>3</td>\n",
              "      <td>0</td>\n",
              "      <td>Garlic Powder</td>\n",
              "      <td>104</td>\n",
              "      <td>13</td>\n",
              "      <td>spices seasonings</td>\n",
              "    </tr>\n",
              "    <tr>\n",
              "      <th>3</th>\n",
              "      <td>2</td>\n",
              "      <td>45918</td>\n",
              "      <td>4</td>\n",
              "      <td>1</td>\n",
              "      <td>Coconut Butter</td>\n",
              "      <td>19</td>\n",
              "      <td>13</td>\n",
              "      <td>oils vinegars</td>\n",
              "    </tr>\n",
              "    <tr>\n",
              "      <th>4</th>\n",
              "      <td>2</td>\n",
              "      <td>30035</td>\n",
              "      <td>5</td>\n",
              "      <td>0</td>\n",
              "      <td>Natural Sweetener</td>\n",
              "      <td>17</td>\n",
              "      <td>13</td>\n",
              "      <td>baking ingredients</td>\n",
              "    </tr>\n",
              "  </tbody>\n",
              "</table>\n",
              "</div>"
            ],
            "text/plain": [
              "   order_id  product_id  ...  department_id               aisle\n",
              "0         2       33120  ...             16                eggs\n",
              "1         2       28985  ...              4    fresh vegetables\n",
              "2         2        9327  ...             13   spices seasonings\n",
              "3         2       45918  ...             13       oils vinegars\n",
              "4         2       30035  ...             13  baking ingredients\n",
              "\n",
              "[5 rows x 8 columns]"
            ]
          },
          "metadata": {
            "tags": []
          },
          "execution_count": 58
        }
      ]
    },
    {
      "cell_type": "code",
      "metadata": {
        "id": "HZWOo50LoMbD",
        "colab_type": "code",
        "colab": {
          "base_uri": "https://localhost:8080/",
          "height": 238
        },
        "outputId": "c89bdcb8-4618-4933-92a7-ca39bdc5aa75"
      },
      "source": [
        "ordered_pdts_merge_gp2[ordered_pdts_merge_gp2['reordered'] == 1].groupby('product_name')['reordered'].sum()"
      ],
      "execution_count": 59,
      "outputs": [
        {
          "output_type": "execute_result",
          "data": {
            "text/plain": [
              "product_name\n",
              "#2 Coffee Filters                                                  265\n",
              "#2 Cone White Coffee Filters                                         3\n",
              "#4 Natural Brown Coffee Filters                                     90\n",
              "& Go! Hazelnut Spread + Pretzel Sticks                              93\n",
              "(70% Juice!) Mountain Raspberry Juice Squeeze                       16\n",
              "                                                                  ... \n",
              "with Xylitol Unwrapped Original Flavor 50 Sticks Sugar Free Gum     17\n",
              "with Xylitol Unwrapped Spearmint 50 Sticks Sugar Free Gum           20\n",
              "with Xylitol Watermelon Twist 18 Sticks Sugar Free Gum              34\n",
              "with a Splash of Mango Coconut Water                                 7\n",
              "with a Splash of Pineapple Coconut Water                            26\n",
              "Name: reordered, Length: 45603, dtype: int64"
            ]
          },
          "metadata": {
            "tags": []
          },
          "execution_count": 59
        }
      ]
    },
    {
      "cell_type": "code",
      "metadata": {
        "id": "TbCZs9_XoN-_",
        "colab_type": "code",
        "colab": {}
      },
      "source": [
        "freq_reordered_pdts = ordered_pdts_merge_gp2[ordered_pdts_merge_gp2['reordered'] == 1]['product_name'].value_counts().\\\n",
        "                        reset_index(name = 'num_reorders').sort_values(['num_reorders'],ascending = False).\\\n",
        "                        nlargest(20, 'num_reorders')"
      ],
      "execution_count": 0,
      "outputs": []
    },
    {
      "cell_type": "code",
      "metadata": {
        "id": "okyDbnt5oQFj",
        "colab_type": "code",
        "colab": {
          "base_uri": "https://localhost:8080/",
          "height": 669
        },
        "outputId": "29be7413-eebc-49e9-e8f7-bbda96d1b223"
      },
      "source": [
        "freq_reordered_pdts"
      ],
      "execution_count": 61,
      "outputs": [
        {
          "output_type": "execute_result",
          "data": {
            "text/html": [
              "<div>\n",
              "<style scoped>\n",
              "    .dataframe tbody tr th:only-of-type {\n",
              "        vertical-align: middle;\n",
              "    }\n",
              "\n",
              "    .dataframe tbody tr th {\n",
              "        vertical-align: top;\n",
              "    }\n",
              "\n",
              "    .dataframe thead th {\n",
              "        text-align: right;\n",
              "    }\n",
              "</style>\n",
              "<table border=\"1\" class=\"dataframe\">\n",
              "  <thead>\n",
              "    <tr style=\"text-align: right;\">\n",
              "      <th></th>\n",
              "      <th>index</th>\n",
              "      <th>num_reorders</th>\n",
              "    </tr>\n",
              "  </thead>\n",
              "  <tbody>\n",
              "    <tr>\n",
              "      <th>0</th>\n",
              "      <td>Banana</td>\n",
              "      <td>415166</td>\n",
              "    </tr>\n",
              "    <tr>\n",
              "      <th>1</th>\n",
              "      <td>Bag of Organic Bananas</td>\n",
              "      <td>329275</td>\n",
              "    </tr>\n",
              "    <tr>\n",
              "      <th>2</th>\n",
              "      <td>Organic Strawberries</td>\n",
              "      <td>214448</td>\n",
              "    </tr>\n",
              "    <tr>\n",
              "      <th>3</th>\n",
              "      <td>Organic Baby Spinach</td>\n",
              "      <td>194939</td>\n",
              "    </tr>\n",
              "    <tr>\n",
              "      <th>4</th>\n",
              "      <td>Organic Hass Avocado</td>\n",
              "      <td>176173</td>\n",
              "    </tr>\n",
              "    <tr>\n",
              "      <th>5</th>\n",
              "      <td>Organic Avocado</td>\n",
              "      <td>140270</td>\n",
              "    </tr>\n",
              "    <tr>\n",
              "      <th>6</th>\n",
              "      <td>Organic Whole Milk</td>\n",
              "      <td>118684</td>\n",
              "    </tr>\n",
              "    <tr>\n",
              "      <th>7</th>\n",
              "      <td>Large Lemon</td>\n",
              "      <td>112178</td>\n",
              "    </tr>\n",
              "    <tr>\n",
              "      <th>8</th>\n",
              "      <td>Organic Raspberries</td>\n",
              "      <td>109688</td>\n",
              "    </tr>\n",
              "    <tr>\n",
              "      <th>9</th>\n",
              "      <td>Strawberries</td>\n",
              "      <td>104588</td>\n",
              "    </tr>\n",
              "    <tr>\n",
              "      <th>10</th>\n",
              "      <td>Limes</td>\n",
              "      <td>100002</td>\n",
              "    </tr>\n",
              "    <tr>\n",
              "      <th>11</th>\n",
              "      <td>Organic Yellow Onion</td>\n",
              "      <td>82166</td>\n",
              "    </tr>\n",
              "    <tr>\n",
              "      <th>12</th>\n",
              "      <td>Organic Garlic</td>\n",
              "      <td>77704</td>\n",
              "    </tr>\n",
              "    <tr>\n",
              "      <th>13</th>\n",
              "      <td>Organic Zucchini</td>\n",
              "      <td>75431</td>\n",
              "    </tr>\n",
              "    <tr>\n",
              "      <th>14</th>\n",
              "      <td>Cucumber Kirby</td>\n",
              "      <td>69022</td>\n",
              "    </tr>\n",
              "    <tr>\n",
              "      <th>15</th>\n",
              "      <td>Organic Blueberries</td>\n",
              "      <td>66306</td>\n",
              "    </tr>\n",
              "    <tr>\n",
              "      <th>16</th>\n",
              "      <td>Organic Fuji Apple</td>\n",
              "      <td>66237</td>\n",
              "    </tr>\n",
              "    <tr>\n",
              "      <th>17</th>\n",
              "      <td>Apple Honeycrisp Organic</td>\n",
              "      <td>64134</td>\n",
              "    </tr>\n",
              "    <tr>\n",
              "      <th>18</th>\n",
              "      <td>Organic Lemon</td>\n",
              "      <td>63046</td>\n",
              "    </tr>\n",
              "    <tr>\n",
              "      <th>19</th>\n",
              "      <td>Organic Half &amp; Half</td>\n",
              "      <td>61801</td>\n",
              "    </tr>\n",
              "  </tbody>\n",
              "</table>\n",
              "</div>"
            ],
            "text/plain": [
              "                       index  num_reorders\n",
              "0                     Banana        415166\n",
              "1     Bag of Organic Bananas        329275\n",
              "2       Organic Strawberries        214448\n",
              "3       Organic Baby Spinach        194939\n",
              "4       Organic Hass Avocado        176173\n",
              "5            Organic Avocado        140270\n",
              "6         Organic Whole Milk        118684\n",
              "7                Large Lemon        112178\n",
              "8        Organic Raspberries        109688\n",
              "9               Strawberries        104588\n",
              "10                     Limes        100002\n",
              "11      Organic Yellow Onion         82166\n",
              "12            Organic Garlic         77704\n",
              "13          Organic Zucchini         75431\n",
              "14            Cucumber Kirby         69022\n",
              "15       Organic Blueberries         66306\n",
              "16        Organic Fuji Apple         66237\n",
              "17  Apple Honeycrisp Organic         64134\n",
              "18             Organic Lemon         63046\n",
              "19       Organic Half & Half         61801"
            ]
          },
          "metadata": {
            "tags": []
          },
          "execution_count": 61
        }
      ]
    },
    {
      "cell_type": "code",
      "metadata": {
        "id": "bLH6w00toTnD",
        "colab_type": "code",
        "colab": {}
      },
      "source": [
        ""
      ],
      "execution_count": 0,
      "outputs": []
    },
    {
      "cell_type": "markdown",
      "metadata": {
        "id": "np_EvuJwoXiu",
        "colab_type": "text"
      },
      "source": [
        "### Observation\n",
        "The most frequently reordered products are fruits and organic vegetables. "
      ]
    },
    {
      "cell_type": "code",
      "metadata": {
        "id": "DG7tTBSvoYIi",
        "colab_type": "code",
        "colab": {}
      },
      "source": [
        "pdt_list = merged_pdts_gp1.groupby('mean_days_since_prior_order')['product_name'].unique().reset_index()\n",
        "\n",
        "list_of_pdts = pdt_list['product_name'].to_list()\n",
        "flat_pdt_list = [item for sublist in list_of_pdts for item in sublist]"
      ],
      "execution_count": 0,
      "outputs": []
    },
    {
      "cell_type": "markdown",
      "metadata": {
        "id": "yWzMiAkQohX1",
        "colab_type": "text"
      },
      "source": [
        "## Modelling\n",
        "\n",
        "Now that we had a glimpse of the data and the factors influencing the reorder of a product, let's begin modelling. "
      ]
    },
    {
      "cell_type": "code",
      "metadata": {
        "id": "0nbQ_l-coZrj",
        "colab_type": "code",
        "colab": {
          "base_uri": "https://localhost:8080/",
          "height": 153
        },
        "outputId": "a051a1b3-b632-46ab-f2ab-23bf80cc74e1"
      },
      "source": [
        "## Missing value investigation\n",
        "\n",
        "def missing_data(df):\n",
        "    x = ['column_name','missing_value_count', 'missing_in_percentage']\n",
        "    missing_data = pd.DataFrame(columns=x)\n",
        "    columns = df.columns\n",
        "    for col in columns:\n",
        "        icolumn_name = col\n",
        "        imissing_data = df[col].isnull().sum()\n",
        "        imissing_in_percentage = (df[col].isnull().sum()/df[col].shape[0])*100\n",
        "\n",
        "        missing_data.loc[len(missing_data)] = [icolumn_name, imissing_data, imissing_in_percentage]\n",
        "    print(missing_data) \n",
        "    \n",
        "#missing_data(ordered_pdts_all)\n",
        "missing_data(orders)"
      ],
      "execution_count": 63,
      "outputs": [
        {
          "output_type": "stream",
          "text": [
            "              column_name missing_value_count  missing_in_percentage\n",
            "0                order_id                   0               0.000000\n",
            "1                 user_id                   0               0.000000\n",
            "2                eval_set                   0               0.000000\n",
            "3            order_number                   0               0.000000\n",
            "4               order_dow                   0               0.000000\n",
            "5       order_hour_of_day                   0               0.000000\n",
            "6  days_since_prior_order              206209               6.027594\n"
          ],
          "name": "stdout"
        }
      ]
    },
    {
      "cell_type": "markdown",
      "metadata": {
        "id": "iIZWZVgzony8",
        "colab_type": "text"
      },
      "source": [
        "No missing values found. In the orders dataframe, wherever days_since_prior_order is NaN, we substitute 0. This is because we assume the the particular NaN records belong to a first-time order."
      ]
    },
    {
      "cell_type": "code",
      "metadata": {
        "id": "WrKXqp8domm3",
        "colab_type": "code",
        "colab": {
          "base_uri": "https://localhost:8080/",
          "height": 153
        },
        "outputId": "174aa3c0-03ce-4652-f03a-59f5e5f4d111"
      },
      "source": [
        "orders.fillna(0, inplace = True)\n",
        "orders.isna().sum()"
      ],
      "execution_count": 65,
      "outputs": [
        {
          "output_type": "execute_result",
          "data": {
            "text/plain": [
              "order_id                  0\n",
              "user_id                   0\n",
              "eval_set                  0\n",
              "order_number              0\n",
              "order_dow                 0\n",
              "order_hour_of_day         0\n",
              "days_since_prior_order    0\n",
              "dtype: int64"
            ]
          },
          "metadata": {
            "tags": []
          },
          "execution_count": 65
        }
      ]
    },
    {
      "cell_type": "code",
      "metadata": {
        "id": "-ufe2eRXorBc",
        "colab_type": "code",
        "colab": {}
      },
      "source": [
        "\n",
        "train_df = orders[orders['eval_set'].isin(['train','prior'])].merge(ordered_pdts_all, on = 'order_id', how = 'inner')"
      ],
      "execution_count": 0,
      "outputs": []
    },
    {
      "cell_type": "code",
      "metadata": {
        "id": "-R0sCwgsoss3",
        "colab_type": "code",
        "colab": {}
      },
      "source": [
        "train_df = train_df.drop(['eval_set'], axis = 1)"
      ],
      "execution_count": 0,
      "outputs": []
    },
    {
      "cell_type": "markdown",
      "metadata": {
        "id": "Ukwjx6p-o0UC",
        "colab_type": "text"
      },
      "source": [
        "Next, we are going to do some feature engineering to identify what's the reorder rate for every product_id in general and the reorder rate of a product given a user_id.\n",
        "\n",
        "For example, consider a product_id corresponding to 'chocolate' and an arbitary user_id '1000'. \n",
        "\n",
        "**pdt_reorder_rate** will be the proportion of the total orders where chocolate is reordered."
      ]
    },
    {
      "cell_type": "code",
      "metadata": {
        "id": "NrOvqu14ovcc",
        "colab_type": "code",
        "colab": {}
      },
      "source": [
        "\n",
        "# get product reorder_rate = reordersTotal / ordersTotal\n",
        "products_temp = pd.DataFrame()\n",
        "\n",
        "products_temp['orders_Total'] = train_df.groupby('product_id').size().astype(np.int32)\n",
        "\n",
        "products_temp['reorders_Total'] = train_df['reordered'].groupby(train_df.product_id).sum().astype(np.float32)\n",
        "\n",
        "products_temp['pdt_reorder_rate'] = (products_temp.reorders_Total / products_temp.orders_Total).astype(np.float32)\n",
        "\n",
        "train = train_df.join(products_temp, on = 'product_id')\n"
      ],
      "execution_count": 0,
      "outputs": []
    },
    {
      "cell_type": "code",
      "metadata": {
        "id": "V6YQkLNco3TB",
        "colab_type": "code",
        "colab": {
          "base_uri": "https://localhost:8080/",
          "height": 204
        },
        "outputId": "016ed48f-2171-4316-d1d0-c93d0a792259"
      },
      "source": [
        "train = train.drop(columns = ['orders_Total', 'reorders_Total'], axis = 1)\n",
        "train.head()"
      ],
      "execution_count": 69,
      "outputs": [
        {
          "output_type": "execute_result",
          "data": {
            "text/html": [
              "<div>\n",
              "<style scoped>\n",
              "    .dataframe tbody tr th:only-of-type {\n",
              "        vertical-align: middle;\n",
              "    }\n",
              "\n",
              "    .dataframe tbody tr th {\n",
              "        vertical-align: top;\n",
              "    }\n",
              "\n",
              "    .dataframe thead th {\n",
              "        text-align: right;\n",
              "    }\n",
              "</style>\n",
              "<table border=\"1\" class=\"dataframe\">\n",
              "  <thead>\n",
              "    <tr style=\"text-align: right;\">\n",
              "      <th></th>\n",
              "      <th>order_id</th>\n",
              "      <th>user_id</th>\n",
              "      <th>order_number</th>\n",
              "      <th>order_dow</th>\n",
              "      <th>order_hour_of_day</th>\n",
              "      <th>days_since_prior_order</th>\n",
              "      <th>product_id</th>\n",
              "      <th>add_to_cart_order</th>\n",
              "      <th>reordered</th>\n",
              "      <th>pdt_reorder_rate</th>\n",
              "    </tr>\n",
              "  </thead>\n",
              "  <tbody>\n",
              "    <tr>\n",
              "      <th>0</th>\n",
              "      <td>2539329</td>\n",
              "      <td>1</td>\n",
              "      <td>1</td>\n",
              "      <td>2</td>\n",
              "      <td>8</td>\n",
              "      <td>0.0</td>\n",
              "      <td>196</td>\n",
              "      <td>1</td>\n",
              "      <td>0</td>\n",
              "      <td>0.777843</td>\n",
              "    </tr>\n",
              "    <tr>\n",
              "      <th>1</th>\n",
              "      <td>2539329</td>\n",
              "      <td>1</td>\n",
              "      <td>1</td>\n",
              "      <td>2</td>\n",
              "      <td>8</td>\n",
              "      <td>0.0</td>\n",
              "      <td>14084</td>\n",
              "      <td>2</td>\n",
              "      <td>0</td>\n",
              "      <td>0.811336</td>\n",
              "    </tr>\n",
              "    <tr>\n",
              "      <th>2</th>\n",
              "      <td>2539329</td>\n",
              "      <td>1</td>\n",
              "      <td>1</td>\n",
              "      <td>2</td>\n",
              "      <td>8</td>\n",
              "      <td>0.0</td>\n",
              "      <td>12427</td>\n",
              "      <td>3</td>\n",
              "      <td>0</td>\n",
              "      <td>0.740182</td>\n",
              "    </tr>\n",
              "    <tr>\n",
              "      <th>3</th>\n",
              "      <td>2539329</td>\n",
              "      <td>1</td>\n",
              "      <td>1</td>\n",
              "      <td>2</td>\n",
              "      <td>8</td>\n",
              "      <td>0.0</td>\n",
              "      <td>26088</td>\n",
              "      <td>4</td>\n",
              "      <td>0</td>\n",
              "      <td>0.540429</td>\n",
              "    </tr>\n",
              "    <tr>\n",
              "      <th>4</th>\n",
              "      <td>2539329</td>\n",
              "      <td>1</td>\n",
              "      <td>1</td>\n",
              "      <td>2</td>\n",
              "      <td>8</td>\n",
              "      <td>0.0</td>\n",
              "      <td>26405</td>\n",
              "      <td>5</td>\n",
              "      <td>0</td>\n",
              "      <td>0.453374</td>\n",
              "    </tr>\n",
              "  </tbody>\n",
              "</table>\n",
              "</div>"
            ],
            "text/plain": [
              "   order_id  user_id  ...  reordered  pdt_reorder_rate\n",
              "0   2539329        1  ...          0          0.777843\n",
              "1   2539329        1  ...          0          0.811336\n",
              "2   2539329        1  ...          0          0.740182\n",
              "3   2539329        1  ...          0          0.540429\n",
              "4   2539329        1  ...          0          0.453374\n",
              "\n",
              "[5 rows x 10 columns]"
            ]
          },
          "metadata": {
            "tags": []
          },
          "execution_count": 69
        }
      ]
    },
    {
      "cell_type": "code",
      "metadata": {
        "id": "3jMfBJSZo6uq",
        "colab_type": "code",
        "colab": {}
      },
      "source": [
        "X = train.loc[:, train.columns != 'reordered']\n",
        "y = train.loc[:,'reordered']"
      ],
      "execution_count": 0,
      "outputs": []
    },
    {
      "cell_type": "code",
      "metadata": {
        "id": "WdbwPWDao7zu",
        "colab_type": "code",
        "colab": {}
      },
      "source": [
        "\n",
        "from sklearn.model_selection import train_test_split\n",
        "from sklearn.ensemble import RandomForestClassifier\n",
        "from sklearn.linear_model import LogisticRegression\n",
        "from sklearn.metrics import accuracy_score\n",
        "\n",
        "X_train, X_test, y_train, ytest = train_test_split(X, y, test_size=0.30, random_state=5)"
      ],
      "execution_count": 0,
      "outputs": []
    },
    {
      "cell_type": "markdown",
      "metadata": {
        "id": "za64lfHWpEra",
        "colab_type": "text"
      },
      "source": [
        "# Logistic Regression\n",
        "\n",
        "Let's quickly try a Logistic Regression model on the training and assess the accuracy on test data."
      ]
    },
    {
      "cell_type": "code",
      "metadata": {
        "id": "xyz5aFfjo-Cx",
        "colab_type": "code",
        "colab": {
          "base_uri": "https://localhost:8080/",
          "height": 34
        },
        "outputId": "be182ead-caf0-4241-cff8-8e74a0da8101"
      },
      "source": [
        "#Logistic Regression model\n",
        "logreg=(LogisticRegression(C=0.01))\n",
        "logreg.fit(X_train, y_train)\n",
        "#predictions\n",
        "pred=logreg.predict(X_test)\n",
        "#accuracy score of Logistic Regression Model\n",
        "print(accuracy_score(logreg.predict(X_test), ytest))"
      ],
      "execution_count": 74,
      "outputs": [
        {
          "output_type": "stream",
          "text": [
            "0.5900447597078259\n"
          ],
          "name": "stdout"
        }
      ]
    },
    {
      "cell_type": "code",
      "metadata": {
        "id": "1C3emz91p82G",
        "colab_type": "code",
        "colab": {}
      },
      "source": [
        "from sklearn.ensemble import GradientBoostingClassifier\n",
        "\n",
        "#Gradient Boosting Classifier\n",
        "GBclass= GradientBoostingClassifier()\n",
        "\n",
        "#fitting\n",
        "GBclass.fit(X_train, y_train)\n",
        "#predictions\n",
        "GBpred = GBclass.predict(X_test)\n",
        "\n",
        "#accuracy score for Gradient Boosting Classifier\n",
        "accuracy_score(GBpred, ytest)\n"
      ],
      "execution_count": 0,
      "outputs": []
    },
    {
      "cell_type": "code",
      "metadata": {
        "id": "qNi-qJ-Msdnd",
        "colab_type": "code",
        "colab": {}
      },
      "source": [
        "cust_clus = train.merge(departments, on = 'product_id', how = 'left')"
      ],
      "execution_count": 0,
      "outputs": []
    },
    {
      "cell_type": "code",
      "metadata": {
        "id": "NZhnvvOIqsDK",
        "colab_type": "code",
        "colab": {}
      },
      "source": [
        "cust_prod = pd.crosstab(train['user_id'], train['aisle'])\n",
        "cust_prod.head(10)"
      ],
      "execution_count": 0,
      "outputs": []
    }
  ]
}